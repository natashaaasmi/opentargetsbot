{
 "cells": [
  {
   "cell_type": "code",
   "execution_count": 130,
   "metadata": {},
   "outputs": [],
   "source": [
    "from langchain.prompts import PromptTemplate\n",
    "from langchain.chains import LLMChain, SequentialChain, TransformChain\n",
    "import numpy as np"
   ]
  },
  {
   "cell_type": "code",
   "execution_count": 122,
   "metadata": {},
   "outputs": [],
   "source": [
    "#creating rett.txt\n",
    "from PyPDF2 import PdfReader\n",
    "import fitz\n",
    "import pandas as pd\n",
    "\n",
    "#reader = PdfReader('rettsyndrome.pdf')\n",
    "\n",
    "doc = fitz.open('rettsyndrome.pdf')\n",
    "count = doc.page_count\n",
    "#textList = []\n",
    "with open('rett.txt', 'a') as f:\n",
    "    for i in range(0, count-1):\n",
    "        x = doc[i].get_text()\n",
    "        f.write(x)\n"
   ]
  },
  {
   "cell_type": "code",
   "execution_count": 50,
   "metadata": {},
   "outputs": [],
   "source": [
    "#creating rett2.txt\n",
    "import PyPDF2\n",
    "with open('rettsyndrome.pdf','rb') as f:\n",
    "    pdf_reader = PyPDF2.PdfReader(f)\n",
    "    text = ''\n",
    "    for page_num in range(len(pdf_reader.pages)):\n",
    "        page = pdf_reader.pages[page_num]\n",
    "        text += page.extract_text()\n",
    "\n",
    "with open('rett2.txt', 'w',encoding='utf-8') as file:\n",
    "    file.write(text)\n"
   ]
  },
  {
   "cell_type": "code",
   "execution_count": 8,
   "metadata": {},
   "outputs": [],
   "source": [
    "from langchain.llms import OpenAI\n",
    "import os\n",
    "OPENAI_API_KEY = os.environ[\"OPENAI_API_KEY\"]\n",
    "llm = OpenAI(temperature =0)"
   ]
  },
  {
   "cell_type": "code",
   "execution_count": 96,
   "metadata": {},
   "outputs": [],
   "source": [
    "# chunk rett.txt; run each chunk thru gpt for summary -> df of summary; doc chunk; embedding\n",
    "# read .txt in chunks; get summary, return tuple, withid; write each tuple to csv\n",
    "#TODO: would be easier if sentences ended at periods - instead of chunk size, find farthest period within chunk_size\n",
    "import codecs\n",
    "chunk_dict = {}\n",
    "def read_in_chunks(file, chunk_size = 1000,index=0):\n",
    "    with codecs.open(file,'r',encoding='utf-8',errors='ignore') as f:\n",
    "        while True:\n",
    "            f.seek(index)\n",
    "            data = f.read(chunk_size)\n",
    "            if not data:\n",
    "                break\n",
    "            return data"
   ]
  },
  {
   "cell_type": "code",
   "execution_count": 97,
   "metadata": {},
   "outputs": [
    {
     "data": {
      "text/plain": [
       "str"
      ]
     },
     "execution_count": 97,
     "metadata": {},
     "output_type": "execute_result"
    }
   ],
   "source": [
    "x = read_in_chunks('rett2.txt', 800,0)\n",
    "#print(x)\n",
    "type(x)"
   ]
  },
  {
   "attachments": {},
   "cell_type": "markdown",
   "metadata": {},
   "source": [
    "### could finetune a model to create headers"
   ]
  },
  {
   "cell_type": "code",
   "execution_count": 82,
   "metadata": {},
   "outputs": [],
   "source": [
    "# function to summarize chunk -\n",
    "llm = OpenAI(temperature=0)  # model = \"text-ada-001\",\n",
    "def summarize_chunk(text):\n",
    "    prompt= f\"Create a 4-word header for the following text: {text}\"\n",
    "    summary = llm(prompt)\n",
    "    return summary\n",
    "    \n"
   ]
  },
  {
   "cell_type": "code",
   "execution_count": 83,
   "metadata": {},
   "outputs": [
    {
     "data": {
      "text/plain": [
       "' MECP2 alleles in different cells6.\\n\\nDevastating Neurological Disorder:'"
      ]
     },
     "execution_count": 83,
     "metadata": {},
     "output_type": "execute_result"
    }
   ],
   "source": [
    "text = 'Rett syndrome(RTT; OMIM identifier  # 312750), first reported by the Austrian physician Andreas Rett, is a devastating neurological disorder that affects brain development and function in females in approximately 1 in 10, 000 live births 1, 2. In 90–95 % of patients diagnosed with classic RTT, the disease is caused by loss - of-function mutations in the X - linked MECP2 gene, which encodes methyl - CpG binding protein 2 (MeCP2).MECP2 gene mutations predominantly arise in germ cells from the paternal side3. Despite the hundreds of RTT - causing MECP2 mutations that have been identified, eight ‘hotspot’ mutations(encoding the amino acid substitutions R106W, R133C, T158M, R168X, R255X, R270X, R294X and R306C) constitute more than 60 % of documented cases4. RTT -causing mutations in MECP2 in female patients lead to developmental regression, including a loss of speech and hand skills, after apparently normal development5. In females, random X chromosome inactivation results in somatic mosaics with normal and mutant'\n",
    "summarize_chunk(text)"
   ]
  },
  {
   "cell_type": "code",
   "execution_count": 114,
   "metadata": {},
   "outputs": [],
   "source": [
    "import re\n",
    "file = 'rett2.txt'\n",
    "\n",
    "def iterate_chunks(file, chunk_size):\n",
    "    list_of_lists = []\n",
    "    list_of_lists.append(['chunk', 'summary', 'index'])\n",
    "    index = 0\n",
    "    for chunk in read_in_chunks(file):\n",
    "    #chunk is starting at the same index every time\n",
    "        x = read_in_chunks(file, chunk_size,index=index)\n",
    "        #x= re.sub(r'[^\\x00-\\x7f]+','', x)\n",
    "        summ = 'h'\n",
    "        zip = [x, summ, index]\n",
    "        list_of_lists.append(zip)\n",
    "        index += chunk_size\n",
    "    return list_of_lists\n",
    "l = iterate_chunks(file, chunk_size=1000)\n"
   ]
  },
  {
   "cell_type": "code",
   "execution_count": 118,
   "metadata": {},
   "outputs": [],
   "source": [
    "import csv\n",
    "disease_name='rett'\n",
    "output = f'{disease_name}output.csv'\n",
    "# Open a CSV file for writing\n",
    "with open(output, 'w', newline='') as f:\n",
    "    # Create a CSV writer object\n",
    "    writer = csv.writer(f)\n",
    "    # Write the data to the CSV file\n",
    "    writer.writerows(l)\n"
   ]
  },
  {
   "cell_type": "code",
   "execution_count": 119,
   "metadata": {},
   "outputs": [
    {
     "data": {
      "text/html": [
       "<div>\n",
       "<style scoped>\n",
       "    .dataframe tbody tr th:only-of-type {\n",
       "        vertical-align: middle;\n",
       "    }\n",
       "\n",
       "    .dataframe tbody tr th {\n",
       "        vertical-align: top;\n",
       "    }\n",
       "\n",
       "    .dataframe thead th {\n",
       "        text-align: right;\n",
       "    }\n",
       "</style>\n",
       "<table border=\"1\" class=\"dataframe\">\n",
       "  <thead>\n",
       "    <tr style=\"text-align: right;\">\n",
       "      <th></th>\n",
       "      <th>chunk</th>\n",
       "      <th>summary</th>\n",
       "      <th>index</th>\n",
       "    </tr>\n",
       "  </thead>\n",
       "  <tbody>\n",
       "    <tr>\n",
       "      <th>0</th>\n",
       "      <td>Rett syndrome (RTT; OMIM identifier #312750), ...</td>\n",
       "      <td>h</td>\n",
       "      <td>0</td>\n",
       "    </tr>\n",
       "    <tr>\n",
       "      <th>1</th>\n",
       "      <td>esults in somatic mosaics  with normal and mut...</td>\n",
       "      <td>h</td>\n",
       "      <td>1000</td>\n",
       "    </tr>\n",
       "    <tr>\n",
       "      <th>2</th>\n",
       "      <td>velopmental stages, MeCP2–DNA interactions, th...</td>\n",
       "      <td>h</td>\n",
       "      <td>2000</td>\n",
       "    </tr>\n",
       "    <tr>\n",
       "      <th>3</th>\n",
       "      <td>red verbal skills. In addition, normal hand fu...</td>\n",
       "      <td>h</td>\n",
       "      <td>3000</td>\n",
       "    </tr>\n",
       "    <tr>\n",
       "      <th>4</th>\n",
       "      <td>Nikolaos Mellios2 and Mriganka Sur  1*\\nAbstra...</td>\n",
       "      <td>h</td>\n",
       "      <td>4000</td>\n",
       "    </tr>\n",
       "  </tbody>\n",
       "</table>\n",
       "</div>"
      ],
      "text/plain": [
       "                                               chunk summary  index\n",
       "0  Rett syndrome (RTT; OMIM identifier #312750), ...       h      0\n",
       "1  esults in somatic mosaics  with normal and mut...       h   1000\n",
       "2  velopmental stages, MeCP2–DNA interactions, th...       h   2000\n",
       "3  red verbal skills. In addition, normal hand fu...       h   3000\n",
       "4  Nikolaos Mellios2 and Mriganka Sur  1*\\nAbstra...       h   4000"
      ]
     },
     "execution_count": 119,
     "metadata": {},
     "output_type": "execute_result"
    }
   ],
   "source": [
    "df= pd.read_csv(output)\n",
    "df.head()"
   ]
  },
  {
   "attachments": {},
   "cell_type": "markdown",
   "metadata": {},
   "source": [
    "## Add embeddings"
   ]
  },
  {
   "cell_type": "code",
   "execution_count": 120,
   "metadata": {},
   "outputs": [
    {
     "name": "stdout",
     "output_type": "stream",
     "text": [
      "1000\n"
     ]
    }
   ],
   "source": [
    "print(len(df))"
   ]
  },
  {
   "cell_type": "code",
   "execution_count": null,
   "metadata": {},
   "outputs": [],
   "source": [
    "def get_embedding(text: str, model: str = EMBEDDING_MODEL) -> list[float]:\n",
    "    result = openai.Embedding.create(\n",
    "        model=model,\n",
    "        input=text\n",
    "    )\n",
    "    return result[\"data\"][0][\"embedding\"]\n",
    "\n",
    "\n",
    "def compute_doc_embeddings(df: pd.DataFrame) -> dict[tuple[str, str], list[float]]:\n",
    "    \"\"\"\n",
    "    Create an embedding for each row in the dataframe using the OpenAI Embeddings API.\n",
    "    \n",
    "    Return a dictionary that maps between each embedding vector and the index of the row that it corresponds to.\n",
    "    \"\"\"\n",
    "    return {\n",
    "        idx: get_embedding(r.content) for idx, r in df.iterrows()\n",
    "    }\n"
   ]
  },
  {
   "cell_type": "code",
   "execution_count": null,
   "metadata": {},
   "outputs": [],
   "source": [
    "def load_embeddings(fname: str) -> dict[tuple[str, str], list[float]]:\n",
    "    \"\"\"\n",
    "    Read the document embeddings and their keys from a CSV.\n",
    "    \n",
    "    fname is the path to a CSV with exactly these named columns: \n",
    "        \"title\", \"heading\", \"0\", \"1\", ... up to the length of the embedding vectors.\n",
    "    \"\"\"\n",
    "\n",
    "    df = pd.read_csv(fname, header=0)\n",
    "    max_dim = max([int(c)\n",
    "                  for c in df.columns if c != \"title\" and c != \"heading\"])\n",
    "    return {\n",
    "        (r.title, r.heading): [r[str(i)] for i in range(max_dim + 1)] for _, r in df.iterrows()\n",
    "    }\n"
   ]
  },
  {
   "cell_type": "code",
   "execution_count": null,
   "metadata": {},
   "outputs": [],
   "source": [
    "document_embeddings = compute_doc_embeddings(df)"
   ]
  },
  {
   "attachments": {},
   "cell_type": "markdown",
   "metadata": {},
   "source": [
    "## Similarity search"
   ]
  },
  {
   "cell_type": "code",
   "execution_count": null,
   "metadata": {},
   "outputs": [],
   "source": [
    "def vector_similarity(x: list[float], y: list[float]) -> float:\n",
    "    \"\"\"\n",
    "    Returns the similarity between two vectors.\n",
    "    \n",
    "    Because OpenAI Embeddings are normalized to length 1, the cosine similarity is the same as the dot product.\n",
    "    \"\"\"\n",
    "    return np.dot(np.array(x), np.array(y))\n",
    "\n",
    "\n",
    "def order_document_sections_by_query_similarity(query: str, contexts: dict[(str, str), np.array]) -> list[(float, (str, str))]:\n",
    "    \"\"\"\n",
    "    Find the query embedding for the supplied query, and compare it against all of the pre-calculated document embeddings\n",
    "    to find the most relevant sections. \n",
    "    \n",
    "    Return the list of document sections, sorted by relevance in descending order.\n",
    "    \"\"\"\n",
    "    query_embedding = get_embedding(query)\n",
    "\n",
    "    document_similarities = sorted([\n",
    "        (vector_similarity(query_embedding, doc_embedding), doc_index) for doc_index, doc_embedding in contexts.items()\n",
    "    ], reverse=True)\n",
    "\n",
    "    return document_similarities\n"
   ]
  },
  {
   "cell_type": "code",
   "execution_count": null,
   "metadata": {},
   "outputs": [],
   "source": [
    "order_document_sections_by_query_similarity(\n",
    "    \"Who won the men's high jump?\", document_embeddings)[:5]\n"
   ]
  },
  {
   "attachments": {},
   "cell_type": "markdown",
   "metadata": {},
   "source": [
    "## Add relevant sections to context in prompt"
   ]
  },
  {
   "cell_type": "code",
   "execution_count": null,
   "metadata": {},
   "outputs": [],
   "source": []
  },
  {
   "attachments": {},
   "cell_type": "markdown",
   "metadata": {},
   "source": [
    "## Default questions\n"
   ]
  },
  {
   "cell_type": "code",
   "execution_count": 124,
   "metadata": {},
   "outputs": [],
   "source": [
    "default_questions = \"\"\"\n",
    "'What is the mechanism of action of {disease}?'\n",
    "'What is the molecular basis for {disease}?'\n",
    "'What is the pathophysiology of {disease}?'\n",
    "'What are the clinical manifestations of {disease}?'\n",
    "'What are current treatments for {disease}?'\n",
    "'{disease} epidemiology'\n",
    "'{disease} transcriptomics'\n",
    "\n",
    "\"\"\""
   ]
  },
  {
   "cell_type": "code",
   "execution_count": null,
   "metadata": {},
   "outputs": [],
   "source": [
    "# ask question, put response in memory"
   ]
  },
  {
   "cell_type": "code",
   "execution_count": 126,
   "metadata": {},
   "outputs": [],
   "source": [
    "default_template = \"\"\" \n",
    "You are a top scientist. You want to answer {question} factually and truthfully. In order to answer {question}, you need to search through your knowledge base. If the answer doesn't exist in your knowledge base, you need to look it up.\n",
    "\n",
    "\"\"\""
   ]
  },
  {
   "cell_type": "code",
   "execution_count": null,
   "metadata": {},
   "outputs": [],
   "source": [
    "# chain should output search query"
   ]
  },
  {
   "cell_type": "code",
   "execution_count": null,
   "metadata": {},
   "outputs": [],
   "source": [
    "# default prompt\n",
    "default_prompt = PromptTemplate(\n",
    "    input_variables = [\"question\"],\n",
    "    template = default_template,\n",
    ")\n",
    "# this question should search embedded db; opentargets -> return a bunch of targets and characteristics stored in entity memory\n",
    "question1 = \"What is the molecular basis for Rett syndrome?\"\n",
    "chain = LLMChain(llm=llm, prompt=default_prompt)\n",
    "chain.run(\"question1\")"
   ]
  },
  {
   "cell_type": "code",
   "execution_count": 200,
   "metadata": {},
   "outputs": [],
   "source": [
    "question_gen_template = \"\"\" \n",
    "{information}\n",
    "From the above information, formulate a useful hypothesis and phrase it as a question\n",
    "\"\"\"\n",
    "question_prompt = PromptTemplate(\n",
    "    input_variables = [\"information\"],\n",
    "    template = question_gen_template,\n",
    ")\n",
    "question_gen_chain = LLMChain(llm = llm, prompt = question_prompt,output_key = \"question\")"
   ]
  },
  {
   "cell_type": "code",
   "execution_count": 202,
   "metadata": {},
   "outputs": [],
   "source": [
    "from abc import ABC, abstractmethod\n",
    "from typing import Any, Dict, List, Optional, Tuple\n",
    "\n",
    "from pydantic import BaseModel, Field\n",
    "from langchain.chains.base import Chain\n",
    "from langchain.docstore.document import Document\n",
    "from langchain.text_splitter import RecursiveCharacterTextSplitter, TextSplitter\n"
   ]
  },
  {
   "cell_type": "code",
   "execution_count": 132,
   "metadata": {},
   "outputs": [],
   "source": [
    "# write sample result to entity memory, check contents of entity memory\n",
    "from langchain.memory import ConversationEntityMemory"
   ]
  },
  {
   "cell_type": "code",
   "execution_count": 134,
   "metadata": {},
   "outputs": [],
   "source": [
    "memory = ConversationEntityMemory(llm=llm)\n",
    "_input = {'input':\"Deven & Sam are working on a hackathon project\"}\n",
    "memory.load_memory_variables(_input)\n",
    "memory.save_context(\n",
    "    _input, \n",
    "    {\"output\": \"Great! What kind of project are they working on?\"}\n",
    ")"
   ]
  },
  {
   "cell_type": "code",
   "execution_count": 136,
   "metadata": {},
   "outputs": [],
   "source": [
    "from langchain.memory.prompt import ENTITY_MEMORY_CONVERSATION_TEMPLATE\n",
    "from langchain.chains import ConversationChain\n",
    "from pydantic import BaseModel\n",
    "from typing import List, Dict, Any"
   ]
  },
  {
   "cell_type": "code",
   "execution_count": 137,
   "metadata": {},
   "outputs": [],
   "source": [
    "conversation = ConversationChain(\n",
    "    llm = llm,\n",
    "    verbose=True,\n",
    "    prompt = ENTITY_MEMORY_CONVERSATION_TEMPLATE,\n",
    "    memory = ConversationEntityMemory(llm=llm)\n",
    ")"
   ]
  },
  {
   "cell_type": "code",
   "execution_count": 149,
   "metadata": {},
   "outputs": [],
   "source": [
    "templateprompt = \"\"\" \n",
    "Define the following term: {term}\n",
    "\"\"\"\n",
    "pro = PromptTemplate(\n",
    "    input_variables = [\"term\"],\n",
    "    template = templateprompt\n",
    ")\n",
    "test = LLMChain(\n",
    "    llm=llm,\n",
    "    prompt = pro,\n",
    "    memory = ConversationEntityMemory(llm=llm)\n",
    ")"
   ]
  },
  {
   "cell_type": "code",
   "execution_count": 151,
   "metadata": {},
   "outputs": [
    {
     "data": {
      "text/plain": [
       "{'term': 'Rett syndrome',\n",
       " 'history': 'Human: term\\nAI: \\nTerm is a word or phrase used to describe a specific concept or idea. It is often used in the context of a particular field or area of study.',\n",
       " 'entities': {'Rett Syndrome': ''},\n",
       " 'text': '\\nRett syndrome is a rare genetic neurological disorder that affects the development of the brain in girls. It is characterized by a slowing of development, loss of purposeful use of the hands, problems with walking, seizures, and intellectual disability.'}"
      ]
     },
     "execution_count": 151,
     "metadata": {},
     "output_type": "execute_result"
    }
   ],
   "source": [
    "test(\"Rett syndrome\")"
   ]
  },
  {
   "cell_type": "code",
   "execution_count": 152,
   "metadata": {},
   "outputs": [
    {
     "data": {
      "text/plain": [
       "{'Rett Syndrome': 'Rett syndrome is a rare genetic neurological disorder that affects the development of the brain in girls, characterized by a slowing of development, loss of purposeful use of the hands, problems with walking, seizures, and intellectual disability.'}"
      ]
     },
     "execution_count": 152,
     "metadata": {},
     "output_type": "execute_result"
    }
   ],
   "source": [
    "test.memory.store"
   ]
  },
  {
   "cell_type": "code",
   "execution_count": 154,
   "metadata": {},
   "outputs": [
    {
     "name": "stdout",
     "output_type": "stream",
     "text": [
      "{'Rett Syndrome': 'Rett syndrome is a rare genetic neurological disorder that '\n",
      "                  'affects the development of the brain in girls, '\n",
      "                  'characterized by a slowing of development, loss of '\n",
      "                  'purposeful use of the hands, problems with walking, '\n",
      "                  'seizures, and intellectual disability.'}\n"
     ]
    }
   ],
   "source": [
    "from pprint import pprint\n",
    "pprint(test.memory.store)"
   ]
  },
  {
   "cell_type": "code",
   "execution_count": 155,
   "metadata": {},
   "outputs": [
    {
     "data": {
      "text/plain": [
       "{'term': 'transcriptome',\n",
       " 'history': 'Human: term\\nAI: \\nTerm is a word or phrase used to describe a specific concept or idea. It is often used in the context of a particular field or area of study.\\nHuman: Rett syndrome\\nAI: \\nRett syndrome is a rare genetic neurological disorder that affects the development of the brain in girls. It is characterized by a slowing of development, loss of purposeful use of the hands, problems with walking, seizures, and intellectual disability.',\n",
       " 'entities': {'Transcriptome': ''},\n",
       " 'text': '\\nThe transcriptome is the set of all RNA molecules, including mRNA, rRNA, tRNA, and other non-coding RNA, that are produced by the transcription of DNA in a cell or organism.'}"
      ]
     },
     "execution_count": 155,
     "metadata": {},
     "output_type": "execute_result"
    }
   ],
   "source": [
    "test(\"transcriptome\")"
   ]
  },
  {
   "cell_type": "code",
   "execution_count": 156,
   "metadata": {},
   "outputs": [
    {
     "data": {
      "text/plain": [
       "{'Rett Syndrome': 'Rett syndrome is a rare genetic neurological disorder that affects the development of the brain in girls, characterized by a slowing of development, loss of purposeful use of the hands, problems with walking, seizures, and intellectual disability.',\n",
       " 'Transcriptome': 'The transcriptome is the set of all RNA molecules, including mRNA, rRNA, tRNA, and other non-coding RNA, that are produced by the transcription of DNA in a cell or organism.'}"
      ]
     },
     "execution_count": 156,
     "metadata": {},
     "output_type": "execute_result"
    }
   ],
   "source": [
    "test.memory.store"
   ]
  },
  {
   "cell_type": "code",
   "execution_count": 157,
   "metadata": {},
   "outputs": [
    {
     "name": "stdout",
     "output_type": "stream",
     "text": [
      "{'Rett Syndrome': 'Rett syndrome is a rare genetic neurological disorder that '\n",
      "                  'affects the development of the brain in girls, '\n",
      "                  'characterized by a slowing of development, loss of '\n",
      "                  'purposeful use of the hands, problems with walking, '\n",
      "                  'seizures, and intellectual disability.',\n",
      " 'Transcriptome': 'The transcriptome is the set of all RNA molecules, '\n",
      "                  'including mRNA, rRNA, tRNA, and other non-coding RNA, that '\n",
      "                  'are produced by the transcription of DNA in a cell or '\n",
      "                  'organism.'}\n"
     ]
    }
   ],
   "source": [
    "pprint(test.memory.store)"
   ]
  },
  {
   "cell_type": "code",
   "execution_count": 195,
   "metadata": {},
   "outputs": [],
   "source": [
    "prompt2 = \"\"\"\n",
    "Extract the entity from the following text according to this example: \n",
    "Text: MECP2 is a transcriptional regulator that is mutated in Rett syndrome.\n",
    "Entity: MECP2\n",
    "\n",
    "Text: {text}\n",
    "Entity:\n",
    "\"\"\"\n",
    "prompttemplate = PromptTemplate(\n",
    "    input_variables = [\"text\"],\n",
    "    template = prompt2\n",
    ")\n",
    "querychain = LLMChain(\n",
    "    llm=llm, \n",
    "    prompt=prompttemplate,\n",
    "    memory=ConversationEntityMemory(llm=llm),\n",
    "    output_key = \"entity\"\n",
    ")"
   ]
  },
  {
   "cell_type": "code",
   "execution_count": 163,
   "metadata": {},
   "outputs": [
    {
     "data": {
      "text/plain": [
       "{'BDNF': 'BDNF is a transcription factor protein involved in neuronal maturity and synaptic plasticity.'}"
      ]
     },
     "execution_count": 163,
     "metadata": {},
     "output_type": "execute_result"
    }
   ],
   "source": [
    "querychain.memory.store"
   ]
  },
  {
   "cell_type": "code",
   "execution_count": 170,
   "metadata": {},
   "outputs": [
    {
     "data": {
      "text/plain": [
       "{'question': 'What is the molecular basis for Rett syndrome?',\n",
       " 'text': '\"Molecular basis for Rett syndrome\"'}"
      ]
     },
     "execution_count": 170,
     "metadata": {},
     "output_type": "execute_result"
    }
   ],
   "source": [
    "question_to_query_chain(\"What is the molecular basis for Rett syndrome?\")"
   ]
  },
  {
   "cell_type": "code",
   "execution_count": 171,
   "metadata": {},
   "outputs": [],
   "source": [
    "testquery = \"\"\" \n",
    "Turn the following query: {query} into a SERPAPI api call.\n",
    "\"\"\"\n",
    "qprompt = PromptTemplate(\n",
    "    input_variables = [\"query\"],\n",
    "    template = testquery\n",
    ")\n",
    "chain2 = LLMChain(llm=llm, prompt=qprompt,output_key = \"que\")"
   ]
  },
  {
   "cell_type": "code",
   "execution_count": 174,
   "metadata": {},
   "outputs": [],
   "source": [
    "#chain2(\"Molecular basis for Rett syndrome\")\n",
    "question = question_to_query_chain(\"What is the molecular basis for Rett syndrome?\").get('text')\n"
   ]
  },
  {
   "cell_type": "code",
   "execution_count": 175,
   "metadata": {},
   "outputs": [],
   "source": [
    "from serpapi import GoogleSearch\n",
    "api_key = os.environ['SERPAPI_API_KEY'] = \"40f6fba6120a66c379436fe451a4117f8ffea1edffbb935fef773be799b9bac4\"\n"
   ]
  },
  {
   "cell_type": "code",
   "execution_count": 183,
   "metadata": {},
   "outputs": [
    {
     "name": "stdout",
     "output_type": "stream",
     "text": [
      "[{'position': 1, 'title': 'Structure of the MeCP2–TBLR1 complex reveals a ... - PNAS', 'link': 'https://www.pnas.org/content/114/16/E3243', 'displayed_link': 'https://www.pnas.org › content', 'thumbnail': 'https://serpapi.com/searches/641ba56e9d1586ed4adf1b96/images/0fe908a30a7fe1944260d218b25dae0d886a93f0d0048529cd085feb099d1665.jpeg', 'snippet': 'Structure of the MeCP2–TBLR1 complex reveals a molecular basis for Rett syndrome and related disorders. Valdeko Kruusvee, Matthew J. Lyst, Ceitidh Taylor, ...', 'snippet_highlighted_words': ['molecular basis for Rett syndrome'], 'rich_snippet': {'top': {'extensions': ['by V Kruusvee', '2017', 'Cited by 61 —'], 'detected_extensions': {'unknown': 2017, 'cited_by': 61}}}, 'about_this_result': {'source': {'description': 'Proceedings of the National Academy of Sciences of the United States of America is a peer-reviewed multidisciplinary scientific journal. It is the official journal of the National Academy of Sciences, published since 1915, and publishes original research, scientific reviews, commentaries, and letters.', 'source_info_link': 'https://www.pnas.org/content/114/16/E3243', 'security': 'secure', 'icon': 'https://serpapi.com/searches/641ba56e9d1586ed4adf1b96/images/0fe908a30a7fe1944260d218b25dae0d29ad4f127cc35a41eda13a76dedb10c5b2c58b9bd7400136f97a3d0a04732cfb.png'}}, 'about_page_link': 'https://www.google.com/search?q=About+https://www.pnas.org/content/114/16/E3243&tbm=ilp&ilps=AB_Lh3pYB4Y-ZQNhCq6Rc4DX8vGr26ZXpA', 'about_page_serpapi_link': 'https://serpapi.com/search.json?engine=google_about_this_result&google_domain=google.com&ilps=AB_Lh3pYB4Y-ZQNhCq6Rc4DX8vGr26ZXpA&q=About+https%3A%2F%2Fwww.pnas.org%2Fcontent%2F114%2F16%2FE3243', 'related_results': [{'position': 1, 'title': 'Structure of the MeCP2–TBLR1 complex reveals a ... - PNAS', 'link': 'https://www.pnas.org/doi/abs/10.1073/pnas.1700731114', 'displayed_link': 'https://www.pnas.org › doi › abs › pnas.1700731114', 'snippet': 'Structure of the MeCP2–TBLR1 complex reveals a molecular basis for Rett syndrome and related disorders. Valdeko Kruusvee, Matthew J. Lyst, Ceitidh Taylor, ...', 'snippet_highlighted_words': ['molecular basis for Rett syndrome'], 'rich_snippet': {'top': {'extensions': ['by V Kruusvee', '2017', 'Cited by 61 —'], 'detected_extensions': {'unknown': 2017, 'cited_by': 61}}}, 'about_this_result': {'source': {'description': 'Proceedings of the National Academy of Sciences of the United States of America is a peer-reviewed multidisciplinary scientific journal. It is the official journal of the National Academy of Sciences, published since 1915, and publishes original research, scientific reviews, commentaries, and letters.', 'source_info_link': 'https://www.pnas.org/doi/abs/10.1073/pnas.1700731114', 'security': 'secure', 'icon': 'https://serpapi.com/searches/641ba56e9d1586ed4adf1b96/images/0fe908a30a7fe1944260d218b25dae0d327db9c319fc9f68cf7f62feb144e6ffa10b03eeb35b83d3bb2e6ee47e237787be32a451afb3d19c23995b237277b4c675791728a1f9be85.png'}}, 'about_page_link': 'https://www.google.com/search?q=About+https://www.pnas.org/doi/abs/10.1073/pnas.1700731114&tbm=ilp&ilps=AB_Lh3pSad_XmoAgadfNaz8_7pvhzJFPUQ', 'about_page_serpapi_link': 'https://serpapi.com/search.json?engine=google_about_this_result&google_domain=google.com&ilps=AB_Lh3pSad_XmoAgadfNaz8_7pvhzJFPUQ&q=About+https%3A%2F%2Fwww.pnas.org%2Fdoi%2Fabs%2F10.1073%2Fpnas.1700731114'}]}, {'position': 2, 'title': 'Structure of the MeCP2-TBLR1 complex reveals a ... - PubMed', 'link': 'https://pubmed.ncbi.nlm.nih.gov/28348241/', 'displayed_link': 'https://pubmed.ncbi.nlm.nih.gov › ...', 'snippet': 'Structure of the MeCP2-TBLR1 complex reveals a molecular basis for Rett syndrome and related disorders. Proc Natl Acad Sci U S A.', 'snippet_highlighted_words': ['molecular basis for Rett syndrome'], 'rich_snippet': {'top': {'extensions': ['by V Kruusvee', '2017', 'Cited by 61 —'], 'detected_extensions': {'unknown': 2017, 'cited_by': 61}}}, 'about_this_result': {'source': {'description': \"The United States National Library of Medicine, operated by the United States federal government, is the world's largest medical library.\\nLocated in Bethesda, Maryland, the NLM is an institute within the National Institutes of Health.\", 'source_info_link': 'https://pubmed.ncbi.nlm.nih.gov/28348241/', 'security': 'secure', 'icon': 'https://serpapi.com/searches/641ba56e9d1586ed4adf1b96/images/0fe908a30a7fe1944260d218b25dae0d790034869ac5b4af67865f92540dcf7cf50b3c557631de41dcb5e22f1da91bac.png'}}, 'about_page_link': 'https://www.google.com/search?q=About+https://pubmed.ncbi.nlm.nih.gov/28348241/&tbm=ilp&ilps=AB_Lh3oSbpI1U4J9py620yK5gxxSEVGdFA', 'about_page_serpapi_link': 'https://serpapi.com/search.json?engine=google_about_this_result&google_domain=google.com&ilps=AB_Lh3oSbpI1U4J9py620yK5gxxSEVGdFA&q=About+https%3A%2F%2Fpubmed.ncbi.nlm.nih.gov%2F28348241%2F'}, {'position': 3, 'title': 'MeCP2: The Genetic Driver of Rett Syndrome Epigenetics', 'link': 'https://www.frontiersin.org/articles/10.3389/fgene.2021.620859/full', 'displayed_link': 'https://www.frontiersin.org › fgene.2021.620859 › full', 'snippet': 'Structure of the MeCP2-TBLR1 complex reveals a molecular basis for Rett syndrome and related disorders. Proc. Natl. Acad. Sci.', 'snippet_highlighted_words': ['molecular basis for Rett syndrome'], 'rich_snippet': {'top': {'extensions': ['by KV Good', '2021', 'Cited by 35 —'], 'detected_extensions': {'unknown': 2021, 'cited_by': 35}}}, 'about_this_result': {'source': {'description': 'Frontiers Media SA is a publisher of peer-reviewed, open access, scientific journals currently active in science, technology, and medicine. It was founded in 2007 by Kamila and Henry Markram, and has since expanded to other academic fields.', 'source_info_link': 'https://www.frontiersin.org/articles/10.3389/fgene.2021.620859/full', 'security': 'secure', 'icon': 'https://serpapi.com/searches/641ba56e9d1586ed4adf1b96/images/0fe908a30a7fe1944260d218b25dae0d19e617a6d1f9ade1375c17731057adffd66ae7f2e43ef471af42af65d5f79699.png'}}, 'about_page_link': 'https://www.google.com/search?q=About+https://www.frontiersin.org/articles/10.3389/fgene.2021.620859/full&tbm=ilp&ilps=AB_Lh3piqDftZm6VAohWQaEzpoXECq7d4w', 'about_page_serpapi_link': 'https://serpapi.com/search.json?engine=google_about_this_result&google_domain=google.com&ilps=AB_Lh3piqDftZm6VAohWQaEzpoXECq7d4w&q=About+https%3A%2F%2Fwww.frontiersin.org%2Farticles%2F10.3389%2Ffgene.2021.620859%2Ffull', 'cached_page_link': 'https://webcache.googleusercontent.com/search?q=cache:STckiKCjtzwJ:https://www.frontiersin.org/articles/10.3389/fgene.2021.620859/full&cd=14&hl=en&ct=clnk&gl=us'}, {'position': 4, 'title': 'The Molecular Basis of MeCP2 Function in the Brain', 'link': 'https://www.sciencedirect.com/science/article/pii/S0022283619305959', 'displayed_link': 'https://www.sciencedirect.com › science › article › pii', 'snippet': 'Structure of the MeCP2–TBLR1 complex reveals a molecular basis for Rett syndrome and related disorders. Proc. Natl. Acad. Sci.', 'snippet_highlighted_words': ['molecular basis for Rett syndrome'], 'rich_snippet': {'top': {'extensions': ['by R Tillotson', '2020', 'Cited by 85 —'], 'detected_extensions': {'unknown': 2020, 'cited_by': 85}}}, 'about_this_result': {'source': {'description': 'ScienceDirect is a website which provides access to a large bibliographic database of scientific and medical publications of the Dutch publisher Elsevier. It hosts over 18 million pieces of content from more than 4,000 academic journals and 30,000 e-books of this publisher.', 'source_info_link': 'https://www.sciencedirect.com/science/article/pii/S0022283619305959', 'security': 'secure', 'icon': 'https://serpapi.com/searches/641ba56e9d1586ed4adf1b96/images/0fe908a30a7fe1944260d218b25dae0d67fc20b35a78b75b977b28d85097c58866dedd669d1dd494a1c3c87394314482.png'}}, 'about_page_link': 'https://www.google.com/search?q=About+https://www.sciencedirect.com/science/article/pii/S0022283619305959&tbm=ilp&ilps=AB_Lh3r8bc0XX2XhJ3JL9CVoeIauDEe9GA', 'about_page_serpapi_link': 'https://serpapi.com/search.json?engine=google_about_this_result&google_domain=google.com&ilps=AB_Lh3r8bc0XX2XhJ3JL9CVoeIauDEe9GA&q=About+https%3A%2F%2Fwww.sciencedirect.com%2Fscience%2Farticle%2Fpii%2FS0022283619305959'}, {'position': 5, 'title': 'Structure of the MeCP2-TBLR1 complex reveals a ... - UniProt', 'link': 'https://www.uniprot.org/citations/28348241', 'displayed_link': 'https://www.uniprot.org › citations', 'date': 'Jan 1, 2017', 'snippet': 'Structure of the MeCP2-TBLR1 complex reveals a molecular basis for Rett syndrome and related disorders. ... Kruusvee V., Lyst M.J., Taylor C., ...', 'snippet_highlighted_words': ['molecular basis for Rett syndrome'], 'about_this_result': {'source': {'description': 'UniProt is a freely accessible database of protein sequence and functional information, many entries being derived from genome sequencing projects. It contains a large amount of information about the biological function of proteins derived from the research literature.', 'source_info_link': 'https://www.uniprot.org/citations/28348241', 'security': 'secure', 'icon': 'https://serpapi.com/searches/641ba56e9d1586ed4adf1b96/images/0fe908a30a7fe1944260d218b25dae0d3cd5ba9786c7cfb5187a397c2ffbc2ccab1be9d620c12dd516e410e0ee785744.png'}}, 'about_page_link': 'https://www.google.com/search?q=About+https://www.uniprot.org/citations/28348241&tbm=ilp&ilps=AB_Lh3qzEbUyk3moaMM5ilZ5QcyYgN5TIw', 'about_page_serpapi_link': 'https://serpapi.com/search.json?engine=google_about_this_result&google_domain=google.com&ilps=AB_Lh3qzEbUyk3moaMM5ilZ5QcyYgN5TIw&q=About+https%3A%2F%2Fwww.uniprot.org%2Fcitations%2F28348241', 'cached_page_link': 'https://webcache.googleusercontent.com/search?q=cache:GnUcjhwqQbkJ:https://www.uniprot.org/citations/28348241&cd=16&hl=en&ct=clnk&gl=us'}, {'position': 6, 'title': 'Structure of the MeCP2-TBLR1 complex reveals a molecular ...', 'link': 'https://ui.adsabs.harvard.edu/abs/2017PNAS..114E3243K/abstract', 'displayed_link': 'https://ui.adsabs.harvard.edu › abs › abstract', 'snippet': 'Structure of the MeCP2-TBLR1 complex reveals a molecular basis for Rett syndrome and related disorders ... Abstract. Methyl-CpG-binding protein 2 (MeCP2) links ...', 'snippet_highlighted_words': ['molecular basis for Rett syndrome'], 'rich_snippet': {'top': {'extensions': ['by V Kruusvee', '2017', 'Cited by 61 —'], 'detected_extensions': {'unknown': 2017, 'cited_by': 61}}}, 'about_this_result': {'source': {'description': 'The SAO/NASA Astrophysics Data System is an online database of over 16 million astronomy and physics papers from both peer reviewed and non-peer reviewed sources.', 'source_info_link': 'https://ui.adsabs.harvard.edu/abs/2017PNAS..114E3243K/abstract', 'security': 'secure', 'icon': 'https://serpapi.com/searches/641ba56e9d1586ed4adf1b96/images/0fe908a30a7fe1944260d218b25dae0d3e94eba78230c5b824a12f8561041076093b98e9eb58b5b88bc15a3b326be9ad.png'}}, 'about_page_link': 'https://www.google.com/search?q=About+https://ui.adsabs.harvard.edu/abs/2017PNAS..114E3243K/abstract&tbm=ilp&ilps=AB_Lh3qt_kkFkLvTek-eXRb0cXZ31FcFSA', 'about_page_serpapi_link': 'https://serpapi.com/search.json?engine=google_about_this_result&google_domain=google.com&ilps=AB_Lh3qt_kkFkLvTek-eXRb0cXZ31FcFSA&q=About+https%3A%2F%2Fui.adsabs.harvard.edu%2Fabs%2F2017PNAS..114E3243K%2Fabstract'}, {'position': 7, 'title': 'Edinburgh Research Explorer - Structure of the MeCP2-TBLR1 ...', 'link': 'https://www.research.ed.ac.uk/files/33649145/Structure_of_the_MeCP2_TBLR1_complex_reveals_a_molecular_basis_for_Rett_syndrome.pdf', 'displayed_link': 'https://www.research.ed.ac.uk › files › Structure...', 'snippet': \"complex reveals a molecular basis for Rett syndrome and related disorders', Proceedings of the National. Academy of Sciences, vol. 114, no. 16, pp.\", 'snippet_highlighted_words': ['molecular basis for Rett syndrome'], 'about_this_result': {'source': {'description': 'The University of Edinburgh is a public research university based in Edinburgh, Scotland. Founded by the town council under the authority of a royal charter of King James VI in 1582 and officially opened ...', 'source_info_link': 'https://www.research.ed.ac.uk/files/33649145/Structure_of_the_MeCP2_TBLR1_complex_reveals_a_molecular_basis_for_Rett_syndrome.pdf', 'security': 'secure'}}, 'about_page_link': 'https://www.google.com/search?q=About+https://www.research.ed.ac.uk/files/33649145/Structure_of_the_MeCP2_TBLR1_complex_reveals_a_molecular_basis_for_Rett_syndrome.pdf&tbm=ilp&ilps=AB_Lh3pKx2T4yO_v8WeJR3NkcS0w3yOvRQ', 'about_page_serpapi_link': 'https://serpapi.com/search.json?engine=google_about_this_result&google_domain=google.com&ilps=AB_Lh3pKx2T4yO_v8WeJR3NkcS0w3yOvRQ&q=About+https%3A%2F%2Fwww.research.ed.ac.uk%2Ffiles%2F33649145%2FStructure_of_the_MeCP2_TBLR1_complex_reveals_a_molecular_basis_for_Rett_syndrome.pdf', 'cached_page_link': 'https://webcache.googleusercontent.com/search?q=cache:LdDIY6n0eooJ:https://www.research.ed.ac.uk/files/33649145/Structure_of_the_MeCP2_TBLR1_complex_reveals_a_molecular_basis_for_Rett_syndrome.pdf&cd=18&hl=en&ct=clnk&gl=us'}, {'position': 8, 'title': '(PDF) Structure of the MeCP2-TBLR1 complex reveals a ...', 'link': 'https://www.researchgate.net/publication/315702843_Structure_of_the_MeCP2-TBLR1_complex_reveals_a_molecular_basis_for_Rett_syndrome_and_related_disorders', 'displayed_link': 'https://www.researchgate.net › publication › 315702843...', 'date': 'Oct 27, 2022', 'snippet': 'Content may be subject to copyright. Structure of the MeCP2–TBLR1 complex reveals a. molecular basis for Rett syndrome and.', 'snippet_highlighted_words': ['molecular basis for Rett syndrome'], 'about_this_result': {'source': {'description': 'ResearchGate is a European commercial social networking site for scientists and researchers to share papers, ask and answer questions, and find collaborators.', 'source_info_link': 'https://www.researchgate.net/publication/315702843_Structure_of_the_MeCP2-TBLR1_complex_reveals_a_molecular_basis_for_Rett_syndrome_and_related_disorders', 'security': 'secure', 'icon': 'https://serpapi.com/searches/641ba56e9d1586ed4adf1b96/images/0fe908a30a7fe1944260d218b25dae0db68a560224f841eff4e27122f2b48828bf7ac258600eaaa5f6ab8647fbdcf829.png'}}, 'about_page_link': 'https://www.google.com/search?q=About+https://www.researchgate.net/publication/315702843_Structure_of_the_MeCP2-TBLR1_complex_reveals_a_molecular_basis_for_Rett_syndrome_and_related_disorders&tbm=ilp&ilps=AB_Lh3p08MOBV1nEDp-TzzEB7N4JulD3uQ', 'about_page_serpapi_link': 'https://serpapi.com/search.json?engine=google_about_this_result&google_domain=google.com&ilps=AB_Lh3p08MOBV1nEDp-TzzEB7N4JulD3uQ&q=About+https%3A%2F%2Fwww.researchgate.net%2Fpublication%2F315702843_Structure_of_the_MeCP2-TBLR1_complex_reveals_a_molecular_basis_for_Rett_syndrome_and_related_disorders'}]\n"
     ]
    }
   ],
   "source": [
    "params = {\n",
    "    \"engine\": \"google\",\n",
    "    \"q\": question,\n",
    "    \"api_key\": api_key\n",
    "}\n",
    "\n",
    "search = GoogleSearch(params)\n",
    "results = search.get_dict()\n",
    "rs = results[\"organic_results\"]\n",
    "print(rs)\n"
   ]
  },
  {
   "cell_type": "code",
   "execution_count": 185,
   "metadata": {},
   "outputs": [],
   "source": [
    "string_comprehension = \"\"\"\" \n",
    "Rett syndrome (RTT) is an X-linked neurological disorder caused by mutations in the methyl-CpG–binding protein 2 (MeCP2) gene. The majority of RTT missense mutations disrupt the interaction of the MeCP2 with DNA or the nuclear receptor corepressor (NCoR)/silencing mediator of retinoic acid and thyroid receptors (SMRT) corepressor complex. Here, we show that the “NCoR/SMRT interaction domain” (NID) of MeCP2 directly contacts transducin beta-like 1 (TBL1) and TBL1 related (TBLR1), two paralogs that are core components of NCoR/SMRT. We determine the cocrystal structure of the MeCP2 NID in complex with the WD40 domain of TBLR1 and confirm by in vitro and ex vivo assays that mutation of interacting residues of TBLR1 and TBL1 disrupts binding to MeCP2. Strikingly, the four MeCP2-NID residues mutated in RTT are those residues that make the most extensive contacts with TBLR1. Moreover, missense mutations in the gene for TBLR1 that are associated with intellectual disability also prevent MeCP2 binding. Our study therefore reveals the molecular basis of an interaction that is crucial for optimal brain function.\n",
    "\"\"\""
   ]
  },
  {
   "cell_type": "code",
   "execution_count": 186,
   "metadata": {},
   "outputs": [],
   "source": [
    "comp_template = \"\"\" \n",
    "{text}\n",
    "From this text, answer this question: {question}\n",
    "\"\"\"\n",
    "\n",
    "comp_prompt = PromptTemplate(\n",
    "    input_variables = [\"text\", \"question\"],\n",
    "    template = comp_template\n",
    ")"
   ]
  },
  {
   "attachments": {},
   "cell_type": "markdown",
   "metadata": {},
   "source": [
    "## dumbest end to end version:"
   ]
  },
  {
   "cell_type": "code",
   "execution_count": null,
   "metadata": {},
   "outputs": [],
   "source": [
    "# question -> query -C1\n",
    "# query -> api -C1 (or could be a script)\n",
    "# result -> entity memory\n",
    "# entity memory -> new question {its own script - question formulator}; this could benefit from finetuning later"
   ]
  },
  {
   "cell_type": "code",
   "execution_count": 27,
   "metadata": {},
   "outputs": [],
   "source": [
    "from langchain.memory import SimpleMemory\n",
    "question = input(\"Enter your question:\")\n",
    "simp_mem = SimpleMemory()\n",
    "simp_mem.memories = {\"question\": question}"
   ]
  },
  {
   "cell_type": "code",
   "execution_count": 28,
   "metadata": {},
   "outputs": [
    {
     "data": {
      "text/plain": [
       "{'question': 'test q'}"
      ]
     },
     "execution_count": 28,
     "metadata": {},
     "output_type": "execute_result"
    }
   ],
   "source": [
    "simp_mem.memories"
   ]
  },
  {
   "cell_type": "code",
   "execution_count": 29,
   "metadata": {},
   "outputs": [],
   "source": [
    "def return_memories(memory):\n",
    "    return memory.memories"
   ]
  },
  {
   "cell_type": "code",
   "execution_count": 30,
   "metadata": {},
   "outputs": [
    {
     "data": {
      "text/plain": [
       "{'question': 'test q'}"
      ]
     },
     "execution_count": 30,
     "metadata": {},
     "output_type": "execute_result"
    }
   ],
   "source": [
    "return_memories(simp_mem)"
   ]
  },
  {
   "cell_type": "code",
   "execution_count": 213,
   "metadata": {},
   "outputs": [],
   "source": [
    "q2q_prompt_template = \"\"\" \n",
    "Turn the following question into a search query: {question}\n",
    "\n",
    "\"\"\"\n",
    "# takes in question, returns search query\n",
    "q2q_prompt = PromptTemplate(\n",
    "    input_variables = [\"question\"],\n",
    "    template = q2q_prompt_template,\n",
    ")\n",
    "\n",
    "question_to_query_chain = LLMChain(llm=llm, prompt=q2q_prompt,output_key=\"query\")"
   ]
  },
  {
   "cell_type": "code",
   "execution_count": 217,
   "metadata": {},
   "outputs": [],
   "source": [
    "memory = ConversationEntityMemory(llm=llm)\n",
    "query_prompt_template = \"\"\" \n",
    "Turn this query: {query} into an API call to SerpAPI\n",
    "\"\"\"\n",
    "\n",
    "query_prompt = PromptTemplate(\n",
    "    input_variables=[\"query\"],\n",
    "    template=query_prompt_template,\n",
    ")\n",
    "\n",
    "query_api_chain = LLMChain(\n",
    "    llm=llm,\n",
    "    prompt=query_prompt,\n",
    "    output_key=\"api_call\",\n",
    ")\n"
   ]
  },
  {
   "cell_type": "code",
   "execution_count": 222,
   "metadata": {},
   "outputs": [],
   "source": [
    "# link these two chains + memory\n",
    "memory = ConversationEntityMemory(llm=llm)\n",
    "total_chain = SequentialChain(\n",
    "    chains=[question_to_query_chain, query_api_chain],\n",
    "    input_variables=[\"question\"],\n",
    "    output_variables=[\"query\"],\n",
    "    memory=memory\n",
    ")\n"
   ]
  },
  {
   "cell_type": "code",
   "execution_count": 278,
   "metadata": {},
   "outputs": [],
   "source": [
    "# testing above chain \n",
    "question = \"What is the molecular basis for Rett syndrome?\"\n",
    "query = total_chain(question)\n",
    "#type(query)"
   ]
  },
  {
   "cell_type": "code",
   "execution_count": 230,
   "metadata": {},
   "outputs": [],
   "source": [
    "# turn query into serpapi call\n",
    "from serpapi import GoogleSearch\n",
    "\n",
    "search_q = query.get(\"query\")\n",
    "url = \"https://serpapi.com/search.json?q={search_q}\"\n",
    "\n",
    "params = {\n",
    "    \"q\": search_q,\n",
    "    \"engine\":\"google\",\n",
    "    \"api_key\": api_key\n",
    "}\n",
    "\n",
    "search = GoogleSearch(params)\n",
    "results = search.get_dict()\n",
    "organic_results = results[\"organic_results\"]\n"
   ]
  },
  {
   "cell_type": "code",
   "execution_count": 236,
   "metadata": {},
   "outputs": [
    {
     "name": "stdout",
     "output_type": "stream",
     "text": [
      "{'search_metadata': {'id': '641d43de303eb19e3ffacd65', 'status': 'Success', 'json_endpoint': 'https://serpapi.com/searches/ea71e89cb9cf19c1/641d43de303eb19e3ffacd65.json', 'created_at': '2023-03-24 06:31:58 UTC', 'processed_at': '2023-03-24 06:31:58 UTC', 'google_url': 'https://www.google.com/search?q=%22Molecular+basis+for+Rett+syndrome%22&oq=%22Molecular+basis+for+Rett+syndrome%22&sourceid=chrome&ie=UTF-8', 'raw_html_file': 'https://serpapi.com/searches/ea71e89cb9cf19c1/641d43de303eb19e3ffacd65.html', 'total_time_taken': 0.82}, 'search_parameters': {'engine': 'google', 'q': '\"Molecular basis for Rett syndrome\"', 'google_domain': 'google.com', 'device': 'desktop'}, 'search_information': {'organic_results_state': 'Results for exact spelling', 'query_displayed': '\"Molecular basis for Rett syndrome\"', 'total_results': 3700, 'time_taken_displayed': 0.47, 'menu_items': [{'position': 1, 'title': 'Images', 'link': 'https://www.google.com/search?q=%22Molecular+basis+for+Rett+syndrome%22&source=lnms&tbm=isch&sa=X&ved=2ahUKEwihlunm-PP9AhUjF1kFHfAQDJ8Q0pQJegQIAxAC', 'serpapi_link': 'https://serpapi.com/search.json?device=desktop&engine=google&google_domain=google.com&q=%22Molecular+basis+for+Rett+syndrome%22&tbm=isch'}, {'position': 2, 'title': 'Videos', 'link': 'https://www.google.com/search?q=%22Molecular+basis+for+Rett+syndrome%22&source=lnms&tbm=vid&sa=X&ved=2ahUKEwihlunm-PP9AhUjF1kFHfAQDJ8Q0pQJegQIAxAE', 'serpapi_link': 'https://serpapi.com/search.json?device=desktop&engine=google&google_domain=google.com&q=%22Molecular+basis+for+Rett+syndrome%22&tbm=vid'}, {'position': 3, 'title': 'News', 'link': 'https://www.google.com/search?q=%22Molecular+basis+for+Rett+syndrome%22&source=lnms&tbm=nws&sa=X&ved=2ahUKEwihlunm-PP9AhUjF1kFHfAQDJ8Q0pQJegQIAxAG', 'serpapi_link': 'https://serpapi.com/search.json?device=desktop&engine=google&google_domain=google.com&q=%22Molecular+basis+for+Rett+syndrome%22&tbm=nws'}, {'position': 4, 'title': 'Books', 'link': 'https://www.google.com/search?q=%22Molecular+basis+for+Rett+syndrome%22&source=lnms&tbm=bks&sa=X&ved=2ahUKEwihlunm-PP9AhUjF1kFHfAQDJ8Q0pQJegQIAxAI'}, {'position': 5, 'title': 'Maps', 'link': 'https://maps.google.com/maps?q=%22Molecular+basis+for+Rett+syndrome%22&um=1&ie=UTF-8&sa=X&ved=2ahUKEwihlunm-PP9AhUjF1kFHfAQDJ8Q0pQJegQIAxAK'}, {'position': 6, 'title': 'Shopping', 'link': 'https://www.google.com/search?q=%22Molecular+basis+for+Rett+syndrome%22&source=lnms&tbm=shop&sa=X&ved=2ahUKEwihlunm-PP9AhUjF1kFHfAQDJ8Q0pQJegQIAxAM', 'serpapi_link': 'https://serpapi.com/search.json?device=desktop&engine=google&google_domain=google.com&q=%22Molecular+basis+for+Rett+syndrome%22&tbm=shop'}, {'position': 7, 'title': 'Flights', 'link': 'https://www.google.com/flights?q=%22Molecular+basis+for+Rett+syndrome%22&source=lnms&tbm=flm&sa=X&ved=2ahUKEwihlunm-PP9AhUjF1kFHfAQDJ8Q0pQJegQIAxAO'}, {'position': 8, 'title': 'Finance', 'link': 'https://www.google.com/finance?sa=X&ved=2ahUKEwihlunm-PP9AhUjF1kFHfAQDJ8Q0pQJegQIAxAQ'}]}, 'related_questions': [{'question': 'What is the genetic mechanism of Rett syndrome?', 'snippet': 'Most cases of Rett syndrome are caused by a change (also called a mutation) in a single gene. In 1999, NICHD-supported scientists discovered that most classic Rett syndrome cases are caused by a mutation within the Methylcytosine-binding protein 2 (MECP2) gene. The MECP2 gene is located on the X chromosome.', 'title': 'What causes Rett syndrome? | NICHD', 'date': 'Jan 18, 2022', 'link': 'https://www.nichd.nih.gov/health/topics/rett/conditioninfo/causes#:~:text=Most%20cases%20of%20Rett%20syndrome,located%20on%20the%20X%20chromosome.', 'displayed_link': 'https://www.nichd.nih.gov › topics › rett › conditioninfo', 'thumbnail': 'https://serpapi.com/searches/641d43de303eb19e3ffacd65/images/e35c5056aef0874a4f997d6757cbcf525f3a65eff33b7ad7b1b26eb0360dbd98.png', 'next_page_token': 'eyJvbnMiOiIxMDA0MSIsImZjIjoiRW9zQkNreEJRMUIzYW1wUkxUVTRRVEZEWmpZMldHZzVTMnA0TkZGM04yZGlaRmw0TmtSRE1USnhhRTl4UjNWM2J6UkxTVTVMTURKSlpqRllUSGhxVjNwSGJtMHhNVGhEY0VkbGNXZHBOMlpSRWhjemEwMWtXa3RIZGtsTFQzVTFUbTlRT0V0SGR5MUJheG9pUVVaZk5rMUJUbVUzV2s5T1lVbHBYemR1Wlc4MU4zSkRURnBmVW1zNU1GZ3dadyIsImZjdiI6IjMiLCJlaSI6IjNrTWRaS0d2SUtPdTVOb1A4S0d3LUFrIiwicWMiOiJDaUZ0YjJ4bFkzVnNZWElnWW1GemFYTWdabTl5SUhKbGRIUWdjM2x1WkhKdmJXVVFBQmdCZlZxbVRUOCIsInF1ZXN0aW9uIjoiV2hhdCBpcyB0aGUgZ2VuZXRpYyBtZWNoYW5pc20gb2YgUmV0dCBzeW5kcm9tZT8iLCJsayI6IkdpSm5aVzVsZEdsaklHMWxZMmhoYm1semJTQnZaaUJ5WlhSMElITjVibVJ5YjIxbCIsImJzIjoiYy1NeTRkSVB6MGdzVWNnc1ZpakpTRlZJVDgxTExjbE1Wc2hOVGM1SXpNc3N6bFhJVDFNSVNpMHBVU2l1ekVzcHlzOU50WmZvc3VUUzVkSkExcFdibjVPYVhKcVRXS1NRVnBxWFhKS1pud2ZTNXV2cUhHQmtMOUVveUtYUHBZV3NQQy0xdENpX09Ea3pOUzg1Rll2NVc0UUVHQUUiLCJpZCI6ImZjXzEifQ==', 'serpapi_link': 'https://serpapi.com/search.json?device=desktop&engine=google_related_questions&google_domain=google.com&next_page_token=eyJvbnMiOiIxMDA0MSIsImZjIjoiRW9zQkNreEJRMUIzYW1wUkxUVTRRVEZEWmpZMldHZzVTMnA0TkZGM04yZGlaRmw0TmtSRE1USnhhRTl4UjNWM2J6UkxTVTVMTURKSlpqRllUSGhxVjNwSGJtMHhNVGhEY0VkbGNXZHBOMlpSRWhjemEwMWtXa3RIZGtsTFQzVTFUbTlRT0V0SGR5MUJheG9pUVVaZk5rMUJUbVUzV2s5T1lVbHBYemR1Wlc4MU4zSkRURnBmVW1zNU1GZ3dadyIsImZjdiI6IjMiLCJlaSI6IjNrTWRaS0d2SUtPdTVOb1A4S0d3LUFrIiwicWMiOiJDaUZ0YjJ4bFkzVnNZWElnWW1GemFYTWdabTl5SUhKbGRIUWdjM2x1WkhKdmJXVVFBQmdCZlZxbVRUOCIsInF1ZXN0aW9uIjoiV2hhdCBpcyB0aGUgZ2VuZXRpYyBtZWNoYW5pc20gb2YgUmV0dCBzeW5kcm9tZT8iLCJsayI6IkdpSm5aVzVsZEdsaklHMWxZMmhoYm1semJTQnZaaUJ5WlhSMElITjVibVJ5YjIxbCIsImJzIjoiYy1NeTRkSVB6MGdzVWNnc1ZpakpTRlZJVDgxTExjbE1Wc2hOVGM1SXpNc3N6bFhJVDFNSVNpMHBVU2l1ekVzcHlzOU50WmZvc3VUUzVkSkExcFdibjVPYVhKcVRXS1NRVnBxWFhKS1pud2ZTNXV2cUhHQmtMOUVveUtYUHBZV3NQQy0xdENpX09Ea3pOUzg1Rll2NVc0UUVHQUUiLCJpZCI6ImZjXzEifQ%3D%3D'}, {'question': 'What is the molecular function of MECP2?', 'snippet': 'Normal Function The MECP2 gene provides instructions for making a protein called MeCP2. This protein helps regulate gene activity (expression) by modifying chromatin, the complex of DNA and protein that packages DNA into chromosomes.', 'title': 'MECP2 gene: MedlinePlus Genetics', 'date': 'Mar 1, 2017', 'link': 'https://medlineplus.gov/genetics/gene/mecp2/#:~:text=Normal%20Function&text=The%20MECP2%20gene%20provides%20instructions,that%20packages%20DNA%20into%20chromosomes.', 'displayed_link': 'https://medlineplus.gov › genetics › gene › mecp2', 'thumbnail': 'https://serpapi.com/searches/641d43de303eb19e3ffacd65/images/e35c5056aef0874a4f997d6757cbcf52ed0aa5d5d98045a81cbc743a3c2afb68.png', 'next_page_token': 'eyJvbnMiOiIxMDA0MSIsImZjIjoiRW9zQkNreEJRMUIzYW1wUkxUVTRRVEZEWmpZMldHZzVTMnA0TkZGM04yZGlaRmw0TmtSRE1USnhhRTl4UjNWM2J6UkxTVTVMTURKSlpqRllUSGhxVjNwSGJtMHhNVGhEY0VkbGNXZHBOMlpSRWhjemEwMWtXa3RIZGtsTFQzVTFUbTlRT0V0SGR5MUJheG9pUVVaZk5rMUJUbVUzV2s5T1lVbHBYemR1Wlc4MU4zSkRURnBmVW1zNU1GZ3dadyIsImZjdiI6IjMiLCJlaSI6IjNrTWRaS0d2SUtPdTVOb1A4S0d3LUFrIiwicWMiOiJDaUZ0YjJ4bFkzVnNZWElnWW1GemFYTWdabTl5SUhKbGRIUWdjM2x1WkhKdmJXVVFBQmdCZlZxbVRUOCIsInF1ZXN0aW9uIjoiV2hhdCBpcyB0aGUgbW9sZWN1bGFyIGZ1bmN0aW9uIG9mIE1FQ1AyPyIsImxrIjoiR2h0dGIyeGxZM1ZzWVhJZ1puVnVZM1JwYjI0Z2IyWWdiV1ZqY0RJIiwiYnMiOiJjLU15NGRJUHowZ3NVY2dzVmlqSlNGVklUODFMTGNsTVZzaE5UYzVJek1zc3psWElUMU1JU2kwcFVTaXV6RXNweXM5TnRaZm9zdVRTNWRKQTFwV2JuNU9hWEpxVFdLU1FWcHFYWEpLWm53ZlM1dXZxSEdCa0w5RW95S1hQcFlXc1BDLTF0Q2lfT0Rrek5TODVGWXY1VzRRRUdBRSIsImlkIjoiZmNfMSJ9', 'serpapi_link': 'https://serpapi.com/search.json?device=desktop&engine=google_related_questions&google_domain=google.com&next_page_token=eyJvbnMiOiIxMDA0MSIsImZjIjoiRW9zQkNreEJRMUIzYW1wUkxUVTRRVEZEWmpZMldHZzVTMnA0TkZGM04yZGlaRmw0TmtSRE1USnhhRTl4UjNWM2J6UkxTVTVMTURKSlpqRllUSGhxVjNwSGJtMHhNVGhEY0VkbGNXZHBOMlpSRWhjemEwMWtXa3RIZGtsTFQzVTFUbTlRT0V0SGR5MUJheG9pUVVaZk5rMUJUbVUzV2s5T1lVbHBYemR1Wlc4MU4zSkRURnBmVW1zNU1GZ3dadyIsImZjdiI6IjMiLCJlaSI6IjNrTWRaS0d2SUtPdTVOb1A4S0d3LUFrIiwicWMiOiJDaUZ0YjJ4bFkzVnNZWElnWW1GemFYTWdabTl5SUhKbGRIUWdjM2x1WkhKdmJXVVFBQmdCZlZxbVRUOCIsInF1ZXN0aW9uIjoiV2hhdCBpcyB0aGUgbW9sZWN1bGFyIGZ1bmN0aW9uIG9mIE1FQ1AyPyIsImxrIjoiR2h0dGIyeGxZM1ZzWVhJZ1puVnVZM1JwYjI0Z2IyWWdiV1ZqY0RJIiwiYnMiOiJjLU15NGRJUHowZ3NVY2dzVmlqSlNGVklUODFMTGNsTVZzaE5UYzVJek1zc3psWElUMU1JU2kwcFVTaXV6RXNweXM5TnRaZm9zdVRTNWRKQTFwV2JuNU9hWEpxVFdLU1FWcHFYWEpLWm53ZlM1dXZxSEdCa0w5RW95S1hQcFlXc1BDLTF0Q2lfT0Rrek5TODVGWXY1VzRRRUdBRSIsImlkIjoiZmNfMSJ9'}, {'question': 'What is the neuroscience of Rett syndrome?', 'snippet': 'Rett syndrome (RTT) is a neurological disorder caused by mutations in the X-linked gene methyl-CpG-binding protein 2 (MECP2), a ubiquitously expressed transcriptional regulator. Despite remarkable scientific progress since its discovery, the mechanism by which MECP2 mutations cause RTT symptoms is largely unknown.', 'title': 'Rett syndrome: a neurological disorder with metabolic components', 'date': 'Feb 14, 2018', 'link': 'https://www.ncbi.nlm.nih.gov/pmc/articles/PMC5830535/#:~:text=Rett%20syndrome%20(RTT)%20is%20a,RTT%20symptoms%20is%20largely%20unknown.', 'displayed_link': 'https://www.ncbi.nlm.nih.gov › articles › PMC5830535', 'thumbnail': 'https://serpapi.com/searches/641d43de303eb19e3ffacd65/images/e35c5056aef0874a4f997d6757cbcf526dfc4d893dcd743e7543a96cbb00cee6.png', 'next_page_token': 'eyJvbnMiOiIxMDA0MSIsImZjIjoiRW9zQkNreEJRMUIzYW1wUkxUVTRRVEZEWmpZMldHZzVTMnA0TkZGM04yZGlaRmw0TmtSRE1USnhhRTl4UjNWM2J6UkxTVTVMTURKSlpqRllUSGhxVjNwSGJtMHhNVGhEY0VkbGNXZHBOMlpSRWhjemEwMWtXa3RIZGtsTFQzVTFUbTlRT0V0SGR5MUJheG9pUVVaZk5rMUJUbVUzV2s5T1lVbHBYemR1Wlc4MU4zSkRURnBmVW1zNU1GZ3dadyIsImZjdiI6IjMiLCJlaSI6IjNrTWRaS0d2SUtPdTVOb1A4S0d3LUFrIiwicWMiOiJDaUZ0YjJ4bFkzVnNZWElnWW1GemFYTWdabTl5SUhKbGRIUWdjM2x1WkhKdmJXVVFBQmdCZlZxbVRUOCIsInF1ZXN0aW9uIjoiV2hhdCBpcyB0aGUgbmV1cm9zY2llbmNlIG9mIFJldHQgc3luZHJvbWU/IiwibGsiOiJHaDF1WlhWeWIzTmphV1Z1WTJVZ2IyWWdjbVYwZENCemVXNWtjbTl0WlEiLCJicyI6ImMtTXk0ZElQejBnc1VjZ3NWaWpKU0ZWSVQ4MUxMY2xNVnNoTlRjNUl6TXNzemxYSVQxTUlTaTBwVVNpdXpFc3B5czlOdFpmb3N1VFM1ZEpBMXBXYm41T2FYSnFUV0tTUVZwcVhYSktabndmUzV1dnFIR0JrTDlFb3lLWFBwWVdzUEMtMXRDaV9PRGt6TlM4NUZZdjVXNFFFR0FFIiwiaWQiOiJmY18xIn0=', 'serpapi_link': 'https://serpapi.com/search.json?device=desktop&engine=google_related_questions&google_domain=google.com&next_page_token=eyJvbnMiOiIxMDA0MSIsImZjIjoiRW9zQkNreEJRMUIzYW1wUkxUVTRRVEZEWmpZMldHZzVTMnA0TkZGM04yZGlaRmw0TmtSRE1USnhhRTl4UjNWM2J6UkxTVTVMTURKSlpqRllUSGhxVjNwSGJtMHhNVGhEY0VkbGNXZHBOMlpSRWhjemEwMWtXa3RIZGtsTFQzVTFUbTlRT0V0SGR5MUJheG9pUVVaZk5rMUJUbVUzV2s5T1lVbHBYemR1Wlc4MU4zSkRURnBmVW1zNU1GZ3dadyIsImZjdiI6IjMiLCJlaSI6IjNrTWRaS0d2SUtPdTVOb1A4S0d3LUFrIiwicWMiOiJDaUZ0YjJ4bFkzVnNZWElnWW1GemFYTWdabTl5SUhKbGRIUWdjM2x1WkhKdmJXVVFBQmdCZlZxbVRUOCIsInF1ZXN0aW9uIjoiV2hhdCBpcyB0aGUgbmV1cm9zY2llbmNlIG9mIFJldHQgc3luZHJvbWU%2FIiwibGsiOiJHaDF1WlhWeWIzTmphV1Z1WTJVZ2IyWWdjbVYwZENCemVXNWtjbTl0WlEiLCJicyI6ImMtTXk0ZElQejBnc1VjZ3NWaWpKU0ZWSVQ4MUxMY2xNVnNoTlRjNUl6TXNzemxYSVQxTUlTaTBwVVNpdXpFc3B5czlOdFpmb3N1VFM1ZEpBMXBXYm41T2FYSnFUV0tTUVZwcVhYSktabndmUzV1dnFIR0JrTDlFb3lLWFBwWVdzUEMtMXRDaV9PRGt6TlM4NUZZdjVXNFFFR0FFIiwiaWQiOiJmY18xIn0%3D'}], 'answer_box': {'type': 'organic_result', 'title': 'Rett syndrome: insights into genetic, molecular and circuit ...', 'link': 'https://www.ncbi.nlm.nih.gov/pmc/articles/PMC6402579/#:~:text=Rett%20syndrome%20(RTT)%20is%20a,of%20the%20multifunctional%20protein%20MeCP2.', 'displayed_link': 'https://www.ncbi.nlm.nih.gov › articles › PMC6402579', 'hover_info': [{'text': 'Rett syndrome', 'info': 'Rett syndrome is a neurodevelopmental disorder characterized by typical early growth and development followed by a slowing of development, loss of functional use of the hands, distinctive hand movements, slowed brain and head growth, problems with walking, seizures, and intellectual disability.', 'title': 'Rett Syndrome | National Institute of Neurological Disorders and Stroke', 'link': 'https://www.ninds.nih.gov/health-information/disorders/rett-syndrome', 'displayed_link': 'https://www.ninds.nih.gov › disorders › rett-syndrome'}, {'text': 'methyl-CpG-binding protein 2', 'info': 'Mutations in Methyl-CpG-Binding protein 2 (MECP2) are commonly associated with and the neurodevelopmental disorder Rett syndrome (RTT). However, some people with RTT do not have mutations in MECP2, and interestingly there have been people identified with MECP2 mutations that do not have the clinical features of RTT.', 'title': 'MECP2 Mutations in People without Rett Syndrome - PMC - NCBI', 'link': 'https://www.ncbi.nlm.nih.gov/pmc/articles/PMC3880396/', 'displayed_link': 'https://www.ncbi.nlm.nih.gov › pmc › articles › PMC3880396'}], 'snippet': 'Rett syndrome (RTT) is a severe neurological disorder caused by mutations in the gene encoding methyl-CpG-binding protein 2 (MeCP2). Almost two decades of research into RTT have greatly advanced our understanding of the function and regulation of the multifunctional protein MeCP2.', 'snippet_highlighted_words': ['mutations in the gene encoding methyl-CpG-binding protein 2 (MeCP2)'], 'thumbnail': 'https://serpapi.com/searches/641d43de303eb19e3ffacd65/images/9ceb45cfb430643921bda1095b62e446c5aca0999c53cc6c.png', 'about_this_result': {'source': {'description': 'The National Center for Biotechnology Information is part of the United States National Library of Medicine, a branch of the National Institutes of Health. It is approved and funded by the government of the United States.', 'source_info_link': 'https://www.ncbi.nlm.nih.gov/pmc/articles/PMC6402579/', 'security': 'secure', 'icon': 'https://serpapi.com/searches/641d43de303eb19e3ffacd65/images/9ceb45cfb43064392fe11e81a99f05afa328e24198a8931733cd3bcc9ed14868764a634630fa21fec8d10674a9c38f78.png'}, 'keywords': ['molecular', 'basis', 'for', 'rett', 'syndrome'], 'languages': ['English'], 'regions': ['the United States']}, 'about_page_link': 'https://www.google.com/search?q=About+https://www.ncbi.nlm.nih.gov/pmc/articles/PMC6402579/&tbm=ilp&ilps=AB_Lh3qBqA2I8_-2D-pTSw6FOfiK-OIuwQ'}, 'organic_results': [{'position': 1, 'title': 'Structure of the MeCP2–TBLR1 complex reveals a ... - PNAS', 'link': 'https://www.pnas.org/content/114/16/E3243', 'displayed_link': 'https://www.pnas.org › content', 'thumbnail': 'https://serpapi.com/searches/641d43de303eb19e3ffacd65/images/0fe908a30a7fe1944260d218b25dae0d886a93f0d0048529cd085feb099d1665.jpeg', 'snippet': 'Structure of the MeCP2–TBLR1 complex reveals a molecular basis for Rett syndrome and related disorders. Valdeko Kruusvee, Matthew J. Lyst, Ceitidh Taylor, ...', 'snippet_highlighted_words': ['molecular basis for Rett syndrome'], 'rich_snippet': {'top': {'extensions': ['by V Kruusvee', '2017', 'Cited by 61 —'], 'detected_extensions': {'unknown': 2017, 'cited_by': 61}}}, 'about_this_result': {'source': {'description': 'Proceedings of the National Academy of Sciences of the United States of America is a peer-reviewed multidisciplinary scientific journal. It is the official journal of the National Academy of Sciences, published since 1915, and publishes original research, scientific reviews, commentaries, and letters.', 'source_info_link': 'https://www.pnas.org/content/114/16/E3243', 'security': 'secure', 'icon': 'https://serpapi.com/searches/641d43de303eb19e3ffacd65/images/0fe908a30a7fe1944260d218b25dae0d29ad4f127cc35a41eda13a76dedb10c5b2c58b9bd7400136f97a3d0a04732cfb.png'}}, 'about_page_link': 'https://www.google.com/search?q=About+https://www.pnas.org/content/114/16/E3243&tbm=ilp&ilps=AB_Lh3pYB4Y-ZQNhCq6Rc4DX8vGr26ZXpA', 'about_page_serpapi_link': 'https://serpapi.com/search.json?engine=google_about_this_result&google_domain=google.com&ilps=AB_Lh3pYB4Y-ZQNhCq6Rc4DX8vGr26ZXpA&q=About+https%3A%2F%2Fwww.pnas.org%2Fcontent%2F114%2F16%2FE3243', 'related_results': [{'position': 1, 'title': 'Structure of the MeCP2–TBLR1 complex reveals a ...', 'link': 'https://www.pnas.org/doi/abs/10.1073/pnas.1700731114', 'displayed_link': 'https://www.pnas.org › doi › abs › pnas.1700731114', 'snippet': 'Structure of the MeCP2–TBLR1 complex reveals a molecular basis for Rett syndrome and related disorders. Valdeko Kruusvee, Matthew J. Lyst, Ceitidh Taylor, ...', 'snippet_highlighted_words': ['molecular basis for Rett syndrome'], 'rich_snippet': {'top': {'extensions': ['by V Kruusvee', '2017', 'Cited by 61 —'], 'detected_extensions': {'unknown': 2017, 'cited_by': 61}}}, 'about_this_result': {'source': {'description': 'Proceedings of the National Academy of Sciences of the United States of America is a peer-reviewed multidisciplinary scientific journal. It is the official journal of the National Academy of Sciences, published since 1915, and publishes original research, scientific reviews, commentaries, and letters.', 'source_info_link': 'https://www.pnas.org/doi/abs/10.1073/pnas.1700731114', 'security': 'secure', 'icon': 'https://serpapi.com/searches/641d43de303eb19e3ffacd65/images/0fe908a30a7fe1944260d218b25dae0d327db9c319fc9f68cf7f62feb144e6ffa10b03eeb35b83d3bb2e6ee47e237787be32a451afb3d19c23995b237277b4c675791728a1f9be85.png'}}, 'about_page_link': 'https://www.google.com/search?q=About+https://www.pnas.org/doi/abs/10.1073/pnas.1700731114&tbm=ilp&ilps=AB_Lh3pSad_XmoAgadfNaz8_7pvhzJFPUQ', 'about_page_serpapi_link': 'https://serpapi.com/search.json?engine=google_about_this_result&google_domain=google.com&ilps=AB_Lh3pSad_XmoAgadfNaz8_7pvhzJFPUQ&q=About+https%3A%2F%2Fwww.pnas.org%2Fdoi%2Fabs%2F10.1073%2Fpnas.1700731114'}]}, {'position': 2, 'title': 'Structure of the MeCP2-TBLR1 complex reveals a ...', 'link': 'https://pubmed.ncbi.nlm.nih.gov/28348241/', 'displayed_link': 'https://pubmed.ncbi.nlm.nih.gov › ...', 'snippet': 'Structure of the MeCP2-TBLR1 complex reveals a molecular basis for Rett syndrome and related disorders. Proc Natl Acad Sci U S A.', 'snippet_highlighted_words': ['molecular basis for Rett syndrome'], 'rich_snippet': {'top': {'extensions': ['by V Kruusvee', '2017', 'Cited by 61 —'], 'detected_extensions': {'unknown': 2017, 'cited_by': 61}}}, 'about_this_result': {'source': {'description': \"The United States National Library of Medicine, operated by the United States federal government, is the world's largest medical library.\\nLocated in Bethesda, Maryland, the NLM is an institute within the National Institutes of Health.\", 'source_info_link': 'https://pubmed.ncbi.nlm.nih.gov/28348241/', 'security': 'secure', 'icon': 'https://serpapi.com/searches/641d43de303eb19e3ffacd65/images/0fe908a30a7fe1944260d218b25dae0d790034869ac5b4af67865f92540dcf7cf50b3c557631de41dcb5e22f1da91bac.png'}}, 'about_page_link': 'https://www.google.com/search?q=About+https://pubmed.ncbi.nlm.nih.gov/28348241/&tbm=ilp&ilps=AB_Lh3oSbpI1U4J9py620yK5gxxSEVGdFA', 'about_page_serpapi_link': 'https://serpapi.com/search.json?engine=google_about_this_result&google_domain=google.com&ilps=AB_Lh3oSbpI1U4J9py620yK5gxxSEVGdFA&q=About+https%3A%2F%2Fpubmed.ncbi.nlm.nih.gov%2F28348241%2F'}, {'position': 3, 'title': 'MeCP2: The Genetic Driver of Rett Syndrome Epigenetics', 'link': 'https://www.frontiersin.org/articles/10.3389/fgene.2021.620859/full', 'displayed_link': 'https://www.frontiersin.org › fgene.2021.620859 › full', 'snippet': 'Structure of the MeCP2-TBLR1 complex reveals a molecular basis for Rett syndrome and related disorders. Proc. Natl. Acad. Sci.', 'snippet_highlighted_words': ['molecular basis for Rett syndrome'], 'rich_snippet': {'top': {'extensions': ['by KV Good', '2021', 'Cited by 35 —'], 'detected_extensions': {'unknown': 2021, 'cited_by': 35}}}, 'about_this_result': {'source': {'description': 'Frontiers Media SA is a publisher of peer-reviewed, open access, scientific journals currently active in science, technology, and medicine. It was founded in 2007 by Kamila and Henry Markram, and has since expanded to other academic fields.', 'source_info_link': 'https://www.frontiersin.org/articles/10.3389/fgene.2021.620859/full', 'security': 'secure', 'icon': 'https://serpapi.com/searches/641d43de303eb19e3ffacd65/images/0fe908a30a7fe1944260d218b25dae0d19e617a6d1f9ade1375c17731057adffd66ae7f2e43ef471af42af65d5f79699.png'}}, 'about_page_link': 'https://www.google.com/search?q=About+https://www.frontiersin.org/articles/10.3389/fgene.2021.620859/full&tbm=ilp&ilps=AB_Lh3piqDftZm6VAohWQaEzpoXECq7d4w', 'about_page_serpapi_link': 'https://serpapi.com/search.json?engine=google_about_this_result&google_domain=google.com&ilps=AB_Lh3piqDftZm6VAohWQaEzpoXECq7d4w&q=About+https%3A%2F%2Fwww.frontiersin.org%2Farticles%2F10.3389%2Ffgene.2021.620859%2Ffull', 'cached_page_link': 'https://webcache.googleusercontent.com/search?q=cache:STckiKCjtzwJ:https://www.frontiersin.org/articles/10.3389/fgene.2021.620859/full&cd=12&hl=en&ct=clnk&gl=us'}, {'position': 4, 'title': 'The Molecular Basis of MeCP2 Function in the Brain', 'link': 'https://www.sciencedirect.com/science/article/pii/S0022283619305959', 'displayed_link': 'https://www.sciencedirect.com › science › article › pii', 'snippet': 'Structure of the MeCP2–TBLR1 complex reveals a molecular basis for Rett syndrome and related disorders. Proc. Natl. Acad. Sci.', 'snippet_highlighted_words': ['molecular basis for Rett syndrome'], 'rich_snippet': {'top': {'extensions': ['by R Tillotson', '2020', 'Cited by 85 —'], 'detected_extensions': {'unknown': 2020, 'cited_by': 85}}}, 'about_this_result': {'source': {'description': 'ScienceDirect is a website which provides access to a large bibliographic database of scientific and medical publications of the Dutch publisher Elsevier. It hosts over 18 million pieces of content from more than 4,000 academic journals and 30,000 e-books of this publisher.', 'source_info_link': 'https://www.sciencedirect.com/science/article/pii/S0022283619305959', 'security': 'secure', 'icon': 'https://serpapi.com/searches/641d43de303eb19e3ffacd65/images/0fe908a30a7fe1944260d218b25dae0d67fc20b35a78b75b977b28d85097c58866dedd669d1dd494a1c3c87394314482.png'}}, 'about_page_link': 'https://www.google.com/search?q=About+https://www.sciencedirect.com/science/article/pii/S0022283619305959&tbm=ilp&ilps=AB_Lh3r8bc0XX2XhJ3JL9CVoeIauDEe9GA', 'about_page_serpapi_link': 'https://serpapi.com/search.json?engine=google_about_this_result&google_domain=google.com&ilps=AB_Lh3r8bc0XX2XhJ3JL9CVoeIauDEe9GA&q=About+https%3A%2F%2Fwww.sciencedirect.com%2Fscience%2Farticle%2Fpii%2FS0022283619305959'}, {'position': 5, 'title': 'Structure of the MeCP2-TBLR1 complex reveals a ...', 'link': 'https://www.uniprot.org/citations/28348241', 'displayed_link': 'https://www.uniprot.org › citations', 'date': 'Jan 1, 2017', 'snippet': 'Structure of the MeCP2-TBLR1 complex reveals a molecular basis for Rett syndrome and related disorders. ... Kruusvee V., Lyst M.J., Taylor C., ...', 'snippet_highlighted_words': ['molecular basis for Rett syndrome'], 'about_this_result': {'source': {'description': 'UniProt is a freely accessible database of protein sequence and functional information, many entries being derived from genome sequencing projects. It contains a large amount of information about the biological function of proteins derived from the research literature.', 'source_info_link': 'https://www.uniprot.org/citations/28348241', 'security': 'secure', 'icon': 'https://serpapi.com/searches/641d43de303eb19e3ffacd65/images/0fe908a30a7fe1944260d218b25dae0d3cd5ba9786c7cfb5187a397c2ffbc2ccab1be9d620c12dd516e410e0ee785744.png'}}, 'about_page_link': 'https://www.google.com/search?q=About+https://www.uniprot.org/citations/28348241&tbm=ilp&ilps=AB_Lh3qzEbUyk3moaMM5ilZ5QcyYgN5TIw', 'about_page_serpapi_link': 'https://serpapi.com/search.json?engine=google_about_this_result&google_domain=google.com&ilps=AB_Lh3qzEbUyk3moaMM5ilZ5QcyYgN5TIw&q=About+https%3A%2F%2Fwww.uniprot.org%2Fcitations%2F28348241', 'cached_page_link': 'https://webcache.googleusercontent.com/search?q=cache:GnUcjhwqQbkJ:https://www.uniprot.org/citations/28348241&cd=14&hl=en&ct=clnk&gl=us'}, {'position': 6, 'title': 'Structure of the MeCP2-TBLR1 complex reveals a ...', 'link': 'https://ui.adsabs.harvard.edu/abs/2017PNAS..114E3243K/abstract', 'displayed_link': 'https://ui.adsabs.harvard.edu › abs › abstract', 'snippet': 'Structure of the MeCP2-TBLR1 complex reveals a molecular basis for Rett syndrome and related disorders ... Abstract. Methyl-CpG-binding protein 2 (MeCP2) links ...', 'snippet_highlighted_words': ['molecular basis for Rett syndrome'], 'rich_snippet': {'top': {'extensions': ['by V Kruusvee', '2017', 'Cited by 61 —'], 'detected_extensions': {'unknown': 2017, 'cited_by': 61}}}, 'about_this_result': {'source': {'description': 'The SAO/NASA Astrophysics Data System is an online database of over 16 million astronomy and physics papers from both peer reviewed and non-peer reviewed sources.', 'source_info_link': 'https://ui.adsabs.harvard.edu/abs/2017PNAS..114E3243K/abstract', 'security': 'secure', 'icon': 'https://serpapi.com/searches/641d43de303eb19e3ffacd65/images/0fe908a30a7fe1944260d218b25dae0d3e94eba78230c5b824a12f8561041076093b98e9eb58b5b88bc15a3b326be9ad.png'}}, 'about_page_link': 'https://www.google.com/search?q=About+https://ui.adsabs.harvard.edu/abs/2017PNAS..114E3243K/abstract&tbm=ilp&ilps=AB_Lh3qt_kkFkLvTek-eXRb0cXZ31FcFSA', 'about_page_serpapi_link': 'https://serpapi.com/search.json?engine=google_about_this_result&google_domain=google.com&ilps=AB_Lh3qt_kkFkLvTek-eXRb0cXZ31FcFSA&q=About+https%3A%2F%2Fui.adsabs.harvard.edu%2Fabs%2F2017PNAS..114E3243K%2Fabstract'}, {'position': 7, 'title': 'Edinburgh Research Explorer - Structure of the MeCP2-TBLR1 ...', 'link': 'https://www.research.ed.ac.uk/files/33649145/Structure_of_the_MeCP2_TBLR1_complex_reveals_a_molecular_basis_for_Rett_syndrome.pdf', 'displayed_link': 'https://www.research.ed.ac.uk › files › Structure...', 'snippet': \"complex reveals a molecular basis for Rett syndrome and related disorders', Proceedings of the National. Academy of Sciences, vol. 114, no. 16, pp.\", 'snippet_highlighted_words': ['molecular basis for Rett syndrome'], 'about_this_result': {'source': {'description': 'The University of Edinburgh is a public research university based in Edinburgh, Scotland. Founded by the town council under the authority of a royal charter of King James VI in 1582 and officially opened ...', 'source_info_link': 'https://www.research.ed.ac.uk/files/33649145/Structure_of_the_MeCP2_TBLR1_complex_reveals_a_molecular_basis_for_Rett_syndrome.pdf', 'security': 'secure'}}, 'about_page_link': 'https://www.google.com/search?q=About+https://www.research.ed.ac.uk/files/33649145/Structure_of_the_MeCP2_TBLR1_complex_reveals_a_molecular_basis_for_Rett_syndrome.pdf&tbm=ilp&ilps=AB_Lh3pKx2T4yO_v8WeJR3NkcS0w3yOvRQ', 'about_page_serpapi_link': 'https://serpapi.com/search.json?engine=google_about_this_result&google_domain=google.com&ilps=AB_Lh3pKx2T4yO_v8WeJR3NkcS0w3yOvRQ&q=About+https%3A%2F%2Fwww.research.ed.ac.uk%2Ffiles%2F33649145%2FStructure_of_the_MeCP2_TBLR1_complex_reveals_a_molecular_basis_for_Rett_syndrome.pdf', 'cached_page_link': 'https://webcache.googleusercontent.com/search?q=cache:LdDIY6n0eooJ:https://www.research.ed.ac.uk/files/33649145/Structure_of_the_MeCP2_TBLR1_complex_reveals_a_molecular_basis_for_Rett_syndrome.pdf&cd=16&hl=en&ct=clnk&gl=us'}, {'position': 8, 'title': '(PDF) Structure of the MeCP2-TBLR1 complex reveals a ...', 'link': 'https://www.researchgate.net/publication/315702843_Structure_of_the_MeCP2-TBLR1_complex_reveals_a_molecular_basis_for_Rett_syndrome_and_related_disorders', 'displayed_link': 'https://www.researchgate.net › publication › 315702843...', 'date': 'Oct 27, 2022', 'snippet': 'Content may be subject to copyright. Structure of the MeCP2–TBLR1 complex reveals a. molecular basis for Rett syndrome and.', 'snippet_highlighted_words': ['molecular basis for Rett syndrome'], 'about_this_result': {'source': {'description': 'ResearchGate is a European commercial social networking site for scientists and researchers to share papers, ask and answer questions, and find collaborators.', 'source_info_link': 'https://www.researchgate.net/publication/315702843_Structure_of_the_MeCP2-TBLR1_complex_reveals_a_molecular_basis_for_Rett_syndrome_and_related_disorders', 'security': 'secure', 'icon': 'https://serpapi.com/searches/641d43de303eb19e3ffacd65/images/0fe908a30a7fe1944260d218b25dae0db68a560224f841eff4e27122f2b48828bf7ac258600eaaa5f6ab8647fbdcf829.png'}}, 'about_page_link': 'https://www.google.com/search?q=About+https://www.researchgate.net/publication/315702843_Structure_of_the_MeCP2-TBLR1_complex_reveals_a_molecular_basis_for_Rett_syndrome_and_related_disorders&tbm=ilp&ilps=AB_Lh3p08MOBV1nEDp-TzzEB7N4JulD3uQ', 'about_page_serpapi_link': 'https://serpapi.com/search.json?engine=google_about_this_result&google_domain=google.com&ilps=AB_Lh3p08MOBV1nEDp-TzzEB7N4JulD3uQ&q=About+https%3A%2F%2Fwww.researchgate.net%2Fpublication%2F315702843_Structure_of_the_MeCP2-TBLR1_complex_reveals_a_molecular_basis_for_Rett_syndrome_and_related_disorders'}], 'pagination': {'current': 1, 'next': 'https://www.google.com/search?q=%22Molecular+basis+for+Rett+syndrome%22&oq=%22Molecular+basis+for+Rett+syndrome%22&start=10&sourceid=chrome&ie=UTF-8', 'other_pages': {'2': 'https://www.google.com/search?q=%22Molecular+basis+for+Rett+syndrome%22&oq=%22Molecular+basis+for+Rett+syndrome%22&start=10&sourceid=chrome&ie=UTF-8', '3': 'https://www.google.com/search?q=%22Molecular+basis+for+Rett+syndrome%22&oq=%22Molecular+basis+for+Rett+syndrome%22&start=20&sourceid=chrome&ie=UTF-8', '4': 'https://www.google.com/search?q=%22Molecular+basis+for+Rett+syndrome%22&oq=%22Molecular+basis+for+Rett+syndrome%22&start=30&sourceid=chrome&ie=UTF-8', '5': 'https://www.google.com/search?q=%22Molecular+basis+for+Rett+syndrome%22&oq=%22Molecular+basis+for+Rett+syndrome%22&start=40&sourceid=chrome&ie=UTF-8'}}, 'serpapi_pagination': {'current': 1, 'next_link': 'https://serpapi.com/search.json?device=desktop&engine=google&google_domain=google.com&q=%22Molecular+basis+for+Rett+syndrome%22&start=10', 'next': 'https://serpapi.com/search.json?device=desktop&engine=google&google_domain=google.com&q=%22Molecular+basis+for+Rett+syndrome%22&start=10', 'other_pages': {'2': 'https://serpapi.com/search.json?device=desktop&engine=google&google_domain=google.com&q=%22Molecular+basis+for+Rett+syndrome%22&start=10', '3': 'https://serpapi.com/search.json?device=desktop&engine=google&google_domain=google.com&q=%22Molecular+basis+for+Rett+syndrome%22&start=20', '4': 'https://serpapi.com/search.json?device=desktop&engine=google&google_domain=google.com&q=%22Molecular+basis+for+Rett+syndrome%22&start=30', '5': 'https://serpapi.com/search.json?device=desktop&engine=google&google_domain=google.com&q=%22Molecular+basis+for+Rett+syndrome%22&start=40'}}}\n"
     ]
    }
   ],
   "source": [
    "print(results)\n",
    "results.get('menu_items')\n",
    "# get titles, descriptions, urls -> df\n",
    "# embed titles in df, match titles to query || ask chatgpt to pick the academic paper"
   ]
  },
  {
   "attachments": {},
   "cell_type": "markdown",
   "metadata": {},
   "source": [
    "## tried getting results from answer box, for simplest version use serpapi wrapper"
   ]
  },
  {
   "cell_type": "code",
   "execution_count": 270,
   "metadata": {},
   "outputs": [
    {
     "ename": "ValueError",
     "evalue": "'Rett' is not in list",
     "output_type": "error",
     "traceback": [
      "\u001b[0;31m---------------------------------------------------------------------------\u001b[0m",
      "\u001b[0;31mValueError\u001b[0m                                Traceback (most recent call last)",
      "Cell \u001b[0;32mIn[270], line 3\u001b[0m\n\u001b[1;32m      1\u001b[0m answer_box \u001b[39m=\u001b[39m results\u001b[39m.\u001b[39mget(\u001b[39m'\u001b[39m\u001b[39manswer_box\u001b[39m\u001b[39m'\u001b[39m)\n\u001b[1;32m      2\u001b[0m \u001b[39m# list comprehension\u001b[39;00m\n\u001b[0;32m----> 3\u001b[0m \u001b[39mlist\u001b[39m(answer_box\u001b[39m.\u001b[39mkeys())[\u001b[39mlist\u001b[39;49m(answer_box\u001b[39m.\u001b[39;49mvalues())\u001b[39m.\u001b[39;49mindex(\u001b[39m'\u001b[39;49m\u001b[39mRett\u001b[39;49m\u001b[39m'\u001b[39;49m)]\n\u001b[1;32m      4\u001b[0m snippet \u001b[39m=\u001b[39m results\u001b[39m.\u001b[39mget(\u001b[39m'\u001b[39m\u001b[39manswer_box\u001b[39m\u001b[39m'\u001b[39m)\u001b[39m.\u001b[39mget(\u001b[39m'\u001b[39m\u001b[39mhover_info\u001b[39m\u001b[39m'\u001b[39m)[\u001b[39m0\u001b[39m]\u001b[39m.\u001b[39mget(\u001b[39m'\u001b[39m\u001b[39minfo\u001b[39m\u001b[39m'\u001b[39m)\n\u001b[1;32m      5\u001b[0m \u001b[39m#print(snippet)\u001b[39;00m\n",
      "\u001b[0;31mValueError\u001b[0m: 'Rett' is not in list"
     ]
    }
   ],
   "source": [
    "answer_box = results.get('answer_box')\n",
    "# list comprehension\n",
    "#list(answer_box.keys())[list(answer_box.values()).index('Rett')]\n",
    "\n",
    "snippet = results.get('answer_box').get('hover_info')[0].get('info')\n",
    "#print(snippet)\n",
    "print(answer_box)"
   ]
  },
  {
   "attachments": {},
   "cell_type": "markdown",
   "metadata": {},
   "source": [
    "## tried using titles and links -> df, embedding df -> similarity search -> pull info from most relevant link"
   ]
  },
  {
   "cell_type": "code",
   "execution_count": 251,
   "metadata": {},
   "outputs": [
    {
     "name": "stdout",
     "output_type": "stream",
     "text": [
      "['What causes Rett syndrome? | NICHD', 'MECP2 gene: MedlinePlus Genetics', 'Rett syndrome: a neurological disorder with metabolic components']\n",
      "['https://www.nichd.nih.gov/health/topics/rett/conditioninfo/causes#:~:text=Most%20cases%20of%20Rett%20syndrome,located%20on%20the%20X%20chromosome.', 'https://medlineplus.gov/genetics/gene/mecp2/#:~:text=Normal%20Function&text=The%20MECP2%20gene%20provides%20instructions,that%20packages%20DNA%20into%20chromosomes.', 'https://www.ncbi.nlm.nih.gov/pmc/articles/PMC5830535/#:~:text=Rett%20syndrome%20(RTT)%20is%20a,RTT%20symptoms%20is%20largely%20unknown.']\n"
     ]
    }
   ],
   "source": [
    "#r = results.get('search_information').get('related_questions')[0].get('title') \n",
    "#To fix later: this loop doesn't really work, also related questions isn't the best place to look; try snippets first? semantic scholar?\n",
    "i=0\n",
    "titles = []\n",
    "links = []\n",
    "while True:\n",
    "    try:\n",
    "        title = results.get('related_questions')[i].get('title')\n",
    "        link = results.get('related_questions')[i].get('link')\n",
    "        titles.append(title)\n",
    "        links.append(link)\n",
    "        i += 1\n",
    "    except IndexError:\n",
    "        break\n",
    "link = results.get('related_questions')[0].get('link')\n",
    "title = results.get('related_questions')[0].get('title')\n",
    "print(titles)\n",
    "print(links)"
   ]
  },
  {
   "attachments": {},
   "cell_type": "markdown",
   "metadata": {},
   "source": [
    "## try using serpapi wrapper from langchain, important part is writing to entity memory + coming up with better questions. can tweak the search part later"
   ]
  },
  {
   "cell_type": "code",
   "execution_count": 5,
   "metadata": {},
   "outputs": [
    {
     "data": {
      "text/plain": [
       "'Rett syndrome (RTT) is an X-linked neurological disorder caused by mutations in the methyl-CpG–binding protein 2 (MeCP2) gene.'"
      ]
     },
     "execution_count": 5,
     "metadata": {},
     "output_type": "execute_result"
    }
   ],
   "source": [
    "from langchain import SerpAPIWrapper\n",
    "import os\n",
    "api_key = os.environ['SERPAPI_API_KEY'] = \"40f6fba6120a66c379436fe451a4117f8ffea1edffbb935fef773be799b9bac4\"\n",
    "search_question = \"What's the molecular basis for Rett syndrome\"\n",
    "params = {\n",
    "    \"q\": search_question,\n",
    "    'engine':'google',\n",
    "    'gl':'us'\n",
    "}\n",
    "serpapi = SerpAPIWrapper(serpapi_api_key=api_key)\n",
    "#res = serpapi.run(search_q)\n",
    "serpapi.run(\"What's the molecular basis for Rett syndrome?\")"
   ]
  },
  {
   "cell_type": "code",
   "execution_count": 10,
   "metadata": {},
   "outputs": [
    {
     "ename": "NameError",
     "evalue": "name 'PromptTemplate' is not defined",
     "output_type": "error",
     "traceback": [
      "\u001b[0;31m---------------------------------------------------------------------------\u001b[0m",
      "\u001b[0;31mNameError\u001b[0m                                 Traceback (most recent call last)",
      "Cell \u001b[0;32mIn[10], line 9\u001b[0m\n\u001b[1;32m      4\u001b[0m memory \u001b[39m=\u001b[39m ConversationEntityMemory(llm\u001b[39m=\u001b[39mllm)\n\u001b[1;32m      6\u001b[0m parse_result_template \u001b[39m=\u001b[39m \u001b[39m\"\"\"\u001b[39m\u001b[39m \u001b[39m\n\u001b[1;32m      7\u001b[0m \u001b[39mParse the following result: \u001b[39m\u001b[39m{result}\u001b[39;00m\u001b[39m to get the answer to the question: \u001b[39m\u001b[39m{question}\u001b[39;00m\n\u001b[1;32m      8\u001b[0m \u001b[39m\"\"\"\u001b[39m\n\u001b[0;32m----> 9\u001b[0m parse_result_prompt \u001b[39m=\u001b[39m PromptTemplate(\n\u001b[1;32m     10\u001b[0m     input_variables\u001b[39m=\u001b[39m[\u001b[39m\"\u001b[39m\u001b[39mresult\u001b[39m\u001b[39m\"\u001b[39m, \u001b[39m\"\u001b[39m\u001b[39mquestion\u001b[39m\u001b[39m\"\u001b[39m],\n\u001b[1;32m     11\u001b[0m     template \u001b[39m=\u001b[39m parse_result_template\n\u001b[1;32m     12\u001b[0m )\n\u001b[1;32m     14\u001b[0m \u001b[39m# try getting original question from user input = question\u001b[39;00m\n\u001b[1;32m     15\u001b[0m parse_result_chain \u001b[39m=\u001b[39m LLMChain(\n\u001b[1;32m     16\u001b[0m     llm \u001b[39m=\u001b[39m llm,\n\u001b[1;32m     17\u001b[0m     prompt \u001b[39m=\u001b[39m parse_result_prompt,\n\u001b[0;32m   (...)\u001b[0m\n\u001b[1;32m     20\u001b[0m     \u001b[39m#TODO: could also give questions ID's and give answers ID's, then merge memory\u001b[39;00m\n\u001b[1;32m     21\u001b[0m )\n",
      "\u001b[0;31mNameError\u001b[0m: name 'PromptTemplate' is not defined"
     ]
    }
   ],
   "source": [
    "# result = get relevant portions of api call (for now just result of serpapi wrapper call above)\n",
    "#TODO: this chain needs to run async bc it needs to take in the original question (from entity memory?)\n",
    "llm = OpenAI(temperature=0)\n",
    "memory = ConversationEntityMemory(llm=llm)\n",
    "\n",
    "parse_result_template = \"\"\" \n",
    "Parse the following result: {result} to get the answer to the question: {question}\n",
    "\"\"\"\n",
    "parse_result_prompt = PromptTemplate(\n",
    "    input_variables=[\"result\", \"question\"],\n",
    "    template = parse_result_template\n",
    ")\n",
    "\n",
    "# try getting original question from user input = question\n",
    "parse_result_chain = LLMChain(\n",
    "    llm = llm,\n",
    "    prompt = parse_result_prompt,\n",
    "    output_key = \"answer\", # this is what i want to store in memory, not the inputs of the prompt\n",
    "    #memory=memory # don't want to store inputs, want to store answers next to questions\n",
    "    #TODO: could also give questions ID's and give answers ID's, then merge memory\n",
    ")"
   ]
  },
  {
   "cell_type": "code",
   "execution_count": 319,
   "metadata": {},
   "outputs": [],
   "source": [
    "answer = parse_result_chain({\"result\": res, \"question\": question})\n",
    "#issue running multi-input chain -> bc of memory "
   ]
  },
  {
   "cell_type": "code",
   "execution_count": 9,
   "metadata": {},
   "outputs": [
    {
     "ename": "NameError",
     "evalue": "name 'answer' is not defined",
     "output_type": "error",
     "traceback": [
      "\u001b[0;31m---------------------------------------------------------------------------\u001b[0m",
      "\u001b[0;31mNameError\u001b[0m                                 Traceback (most recent call last)",
      "Cell \u001b[0;32mIn[9], line 5\u001b[0m\n\u001b[1;32m      3\u001b[0m llm \u001b[39m=\u001b[39m OpenAI(temperature\u001b[39m=\u001b[39m\u001b[39m0\u001b[39m)\n\u001b[1;32m      4\u001b[0m memory \u001b[39m=\u001b[39m ConversationEntityMemory(llm\u001b[39m=\u001b[39mllm)\n\u001b[0;32m----> 5\u001b[0m \u001b[39minput\u001b[39m \u001b[39m=\u001b[39m {\u001b[39m\"\u001b[39m\u001b[39minput\u001b[39m\u001b[39m\"\u001b[39m: answer\u001b[39m.\u001b[39mget(\u001b[39m'\u001b[39m\u001b[39manswer\u001b[39m\u001b[39m'\u001b[39m)}\n\u001b[1;32m      6\u001b[0m memory\u001b[39m.\u001b[39mload_memory_variables(\u001b[39minput\u001b[39m)\n",
      "\u001b[0;31mNameError\u001b[0m: name 'answer' is not defined"
     ]
    }
   ],
   "source": [
    "# write result to entity memory - separated from chain\n",
    "from langchain.memory import ConversationEntityMemory\n",
    "llm = OpenAI(temperature=0)\n",
    "memory = ConversationEntityMemory(llm=llm)\n",
    "input = {\"input\": answer.get('answer')}\n",
    "memory.load_memory_variables(input)\n"
   ]
  },
  {
   "cell_type": "code",
   "execution_count": 18,
   "metadata": {},
   "outputs": [],
   "source": [
    "# write result of ^ to entity memory\n",
    "memory = ConversationEntityMemory(llm=llm)\n",
    "answer_prompt_template = \"\"\" \n",
    "Write the following to entity memory: {answer}\"\"\"\n",
    "answer_prompt = PromptTemplate(\n",
    "    input_variables=[\"answer\"],\n",
    "    template=answer_prompt_template,\n",
    ")\n",
    "conversation_chain = LLMChain(\n",
    "    llm=llm, \n",
    "    prompt=answer_prompt,\n",
    "    output_key=\"ans-to-mem\",\n",
    "    memory=memory\n",
    ")"
   ]
  },
  {
   "cell_type": "code",
   "execution_count": 20,
   "metadata": {},
   "outputs": [
    {
     "data": {
      "text/plain": [
       "{'answer': 'Rett syndrome is caused by mutations in the gene MECP2, which encodes methyl CpG binding protein 2 (MeCP2).',\n",
       " 'history': '',\n",
       " 'entities': {'MECP2': '', 'MeCP2': ''},\n",
       " 'ans-to-mem': '\\n\\nEntity Memory:\\nRett Syndrome is a neurological disorder caused by mutations in the gene MECP2, which encodes methyl CpG binding protein 2 (MeCP2).'}"
      ]
     },
     "execution_count": 20,
     "metadata": {},
     "output_type": "execute_result"
    }
   ],
   "source": [
    "ans = \"Rett syndrome is caused by mutations in the gene MECP2, which encodes methyl CpG binding protein 2 (MeCP2).\"\n",
    "conversation_chain({\"answer\": ans})"
   ]
  },
  {
   "cell_type": "code",
   "execution_count": 23,
   "metadata": {},
   "outputs": [
    {
     "name": "stdout",
     "output_type": "stream",
     "text": [
      "{'MECP2': 'MECP2 is a gene that encodes methyl CpG binding protein 2 and is '\n",
      "          'associated with mutations that cause Rett Syndrome.',\n",
      " 'MeCP2': 'MeCP2 is a gene that encodes methyl CpG binding protein 2 and is '\n",
      "          'associated with Rett syndrome.'}\n"
     ]
    }
   ],
   "source": [
    "from pprint import pprint\n",
    "pprint(conversation_chain.memory.store)"
   ]
  },
  {
   "cell_type": "code",
   "execution_count": 24,
   "metadata": {},
   "outputs": [],
   "source": [
    "# question generator\n",
    "#1. what do you know about rett synrome?\n",
    "memory = conversation_chain.memory.store\n",
    "entity = \"Rett syndrome\"\n",
    "check_memory_template = \"\"\" \n",
    "Given what you know about {entity}, generate 5 new questions to learn more about it. Use your {memory} stores to help you\n",
    "\n",
    "\"\"\"\n",
    "check_memory_prompt = PromptTemplate(\n",
    "    input_variables=[\"entity\",\"memory\"],\n",
    "    template=check_memory_template,\n",
    ")\n",
    "check_memory_chain = LLMChain(\n",
    "    llm=llm,\n",
    "    prompt=check_memory_prompt,\n",
    "    output_key=\"questions\",\n",
    ")\n",
    "#2. generate new hypotheses"
   ]
  },
  {
   "cell_type": "code",
   "execution_count": 25,
   "metadata": {},
   "outputs": [],
   "source": [
    "memory = conversation_chain.memory.store\n",
    "ans_mem_q_template = \"\"\" \n",
    "Memory: {memory}\n",
    "Using your memory, answer this question: {question}\n",
    "\"\"\"\n",
    "ans_mem_q_prompt = PromptTemplate(\n",
    "    input_variables = [\"question\", \"memory\"],\n",
    "    template = ans_mem_q_template,\n",
    ")\n",
    "\n",
    "ans_mem_q_chain = LLMChain(\n",
    "    llm= llm, \n",
    "    prompt=ans_mem_q_prompt,\n",
    "    output_key=\"answer\",\n",
    ")"
   ]
  },
  {
   "cell_type": "code",
   "execution_count": 26,
   "metadata": {},
   "outputs": [
    {
     "data": {
      "text/plain": [
       "{'entity': 'Rett syndrome', 'memory': {'MECP2': 'MECP2 is a gene that encodes methyl CpG binding protein 2 and is associated with mutations that cause Rett Syndrome.', 'MeCP2': 'MeCP2 is a gene that encodes methyl CpG binding protein 2 and is associated with Rett syndrome.'}, 'questions': '1. What are the most common mutations of the MECP2 gene associated with Rett Syndrome?\\n2. How does the MeCP2 gene affect the development of Rett Syndrome?\\n3. What are the long-term effects of Rett Syndrome on individuals?\\n4. What treatments are available to help manage the symptoms of Rett Syndrome?\\n5. Are there any lifestyle changes that can help reduce the severity of Rett Syndrome?'}"
      ]
     },
     "execution_count": 26,
     "metadata": {},
     "output_type": "execute_result"
    }
   ],
   "source": [
    "check_memory_chain({\"entity\": entity, \"memory\": memory})"
   ]
  },
  {
   "cell_type": "code",
   "execution_count": 339,
   "metadata": {},
   "outputs": [],
   "source": [
    "# parse questions into list\n",
    "output = {'entity': 'Rett syndrome',\n",
    "          'memory': {'MECP2': 'MECP2: A gene encoding methyl-CpG-binding protein 2, which when mutated can cause Rett Syndrome.',\n",
    "                     'Rett Syndrome': 'Rett Syndrome: Molecular Basis: Mutations in gene encoding methyl-CpG-binding protein 2 (MeCP2).',\n",
    "                     'MeCP2': 'MeCP2: Gene encoding methyl-CpG-binding protein 2, which is the molecular basis for Rett Syndrome.'},\n",
    "          'questions': '\\n1. What other genes are associated with Rett Syndrome?\\n2. How does the mutation of MECP2 affect the function of the protein?\\n3. What are the long-term effects of Rett Syndrome?\\n4. What are the most common symptoms of Rett Syndrome?\\n5. What treatments are available for Rett Syndrome?'}\n",
    "q_list = []\n",
    "questions = output.get('questions')\n",
    "for q in questions.split('\\n'):\n",
    "    q_list.append(q)\n",
    "q_list.remove('')"
   ]
  },
  {
   "cell_type": "code",
   "execution_count": 342,
   "metadata": {},
   "outputs": [
    {
     "name": "stdout",
     "output_type": "stream",
     "text": [
      "1. What other genes are associated with Rett Syndrome?\n"
     ]
    }
   ],
   "source": [
    "print(q_list[0])"
   ]
  },
  {
   "cell_type": "code",
   "execution_count": 355,
   "metadata": {},
   "outputs": [
    {
     "data": {
      "text/plain": [
       "{'question': '1. What other genes are associated with Rett Syndrome?',\n",
       " 'history': 'Human: What is the molecular basis for Rett syndrome?\\nAI: \"Molecular basis for Rett syndrome\"\\nHuman: What is the molecular basis for Rett syndrome?\\nAI: \"Molecular basis for Rett syndrome\"\\nHuman: What is the molecular basis for Rett syndrome?\\nAI: \"Molecular basis for Rett syndrome\"',\n",
       " 'entities': {'Rett Syndrome': 'Rett Syndrome is caused by mutations in the MECP2 gene, which affects the regulation of other genes and is associated with neurological impairments.'},\n",
       " 'query': '\"Rett Syndrome associated genes\"'}"
      ]
     },
     "execution_count": 355,
     "metadata": {},
     "output_type": "execute_result"
    }
   ],
   "source": [
    "#first, run the first new question in total_chain\n",
    "question = q_list[0]\n",
    "total_chain({\"question\":question})"
   ]
  },
  {
   "cell_type": "code",
   "execution_count": null,
   "metadata": {},
   "outputs": [],
   "source": [
    "# question -> opentargets query -> answer -> entity memory\n",
    "q_to_opentargets_prompt = \"\"\" \n",
    "Given the question: {question} and strategy {strategy}, return a query that follows the strategy to parse a graph database of drugs.\n",
    "\"\"\"\n",
    "\n",
    "q_to_opentargets_prompt = PromptTemplate(\n",
    "    input_variables=[\"question\"],\n",
    "    template=q_to_opentargets_prompt\n",
    ")\n",
    "\n",
    "q_to_opentargets_chain = LLMChain(\n",
    "    llm = llm,\n",
    "    prompt = q_to_opentargets_prompt,\n",
    "    output_key = \"query\"\n",
    ")"
   ]
  },
  {
   "cell_type": "code",
   "execution_count": null,
   "metadata": {},
   "outputs": [],
   "source": [
    "# first test opentarget queries + strategies below: try two hop query for rett syndrome gene  "
   ]
  },
  {
   "cell_type": "code",
   "execution_count": 36,
   "metadata": {},
   "outputs": [
    {
     "data": {
      "text/plain": [
       "{}"
      ]
     },
     "execution_count": 36,
     "metadata": {},
     "output_type": "execute_result"
    }
   ],
   "source": [
    "# also try to return gene of rett syndrome from entity memory\n",
    "\n",
    "# testing memory store if it's still in github\n",
    "from langchain.memory import ConversationEntityMemory\n",
    "memory = ConversationEntityMemory(llm=llm)\n",
    "input = {\"input\":\"Rett syndrome is caused by mutations in the gene MECP2, which encodes methyl CpG binding protein 2 (MeCP2).\"}\n",
    "memory.store\n",
    "#TODO: don't want entities and history, want full memory store!"
   ]
  }
 ],
 "metadata": {
  "kernelspec": {
   "display_name": "Python 3",
   "language": "python",
   "name": "python3"
  },
  "language_info": {
   "codemirror_mode": {
    "name": "ipython",
    "version": 3
   },
   "file_extension": ".py",
   "mimetype": "text/x-python",
   "name": "python",
   "nbconvert_exporter": "python",
   "pygments_lexer": "ipython3",
   "version": "3.11.1"
  },
  "orig_nbformat": 4,
  "vscode": {
   "interpreter": {
    "hash": "aee8b7b246df8f9039afb4144a1f6fd8d2ca17a180786b69acc140d282b71a49"
   }
  }
 },
 "nbformat": 4,
 "nbformat_minor": 2
}
