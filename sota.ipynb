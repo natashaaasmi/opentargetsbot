{
 "cells": [
  {
   "attachments": {},
   "cell_type": "markdown",
   "metadata": {},
   "source": [
    "## Ask a series of questions over rett.txt, use those to populate memory.txt -> get strategy"
   ]
  },
  {
   "cell_type": "code",
   "execution_count": 1,
   "metadata": {},
   "outputs": [],
   "source": [
    "from langchain import PromptTemplate, OpenAI\n",
    "import os\n",
    "OPENAI_API_KEY = os.environ['OPENAI_API_KEY']\n"
   ]
  },
  {
   "cell_type": "code",
   "execution_count": 8,
   "metadata": {},
   "outputs": [
    {
     "data": {
      "text/plain": [
       "'\\n\\nTwo hops away from a disease target means that the drug target is two steps removed from the disease target. For example, if the disease target is a gene, then the drug target could be a protein that is produced by the gene, or a molecule that interacts with the protein.'"
      ]
     },
     "execution_count": 8,
     "metadata": {},
     "output_type": "execute_result"
    }
   ],
   "source": [
    "# testing native understandign of davinci; otherwise will make dict of terms\n",
    "llm = OpenAI(temperature=0)\n",
    "#llm(\"Define transcriptomics\")\n",
    "#llm(\"When is transcriptomics a promising way to study a disease?\")\n",
    "#llm(\"How do you know when a disease is caused by changes in gene expression?\")\n",
    "#llm(\"Is it likely that an autoimmune disease is caused by changes in gene expression?\")\n",
    "llm(\"What does it mean for a drug target to be two hops away from a disease target?Can you give an example?\")"
   ]
  },
  {
   "attachments": {},
   "cell_type": "markdown",
   "metadata": {},
   "source": [
    "## chatbot would be helpful here"
   ]
  }
 ],
 "metadata": {
  "kernelspec": {
   "display_name": "Python 3",
   "language": "python",
   "name": "python3"
  },
  "language_info": {
   "codemirror_mode": {
    "name": "ipython",
    "version": 3
   },
   "file_extension": ".py",
   "mimetype": "text/x-python",
   "name": "python",
   "nbconvert_exporter": "python",
   "pygments_lexer": "ipython3",
   "version": "3.11.1"
  },
  "orig_nbformat": 4,
  "vscode": {
   "interpreter": {
    "hash": "aee8b7b246df8f9039afb4144a1f6fd8d2ca17a180786b69acc140d282b71a49"
   }
  }
 },
 "nbformat": 4,
 "nbformat_minor": 2
}
