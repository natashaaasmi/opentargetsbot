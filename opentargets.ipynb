{
 "cells": [
  {
   "attachments": {},
   "cell_type": "markdown",
   "metadata": {},
   "source": [
    "## Call targets with opentarget API"
   ]
  },
  {
   "cell_type": "code",
   "execution_count": 1,
   "metadata": {},
   "outputs": [],
   "source": [
    "from langchain.chains import LLMChain\n",
    "from langchain.prompts import PromptTemplate\n",
    "from langchain.llms import OpenAI\n",
    "import requests\n",
    "import json"
   ]
  },
  {
   "cell_type": "code",
   "execution_count": null,
   "metadata": {},
   "outputs": [],
   "source": []
  },
  {
   "cell_type": "code",
   "execution_count": 2,
   "metadata": {},
   "outputs": [],
   "source": [
    "url = \"https://api.platform.opentargets.org/api/v4/graphql/target\""
   ]
  },
  {
   "cell_type": "code",
   "execution_count": 3,
   "metadata": {},
   "outputs": [
    {
     "name": "stdout",
     "output_type": "stream",
     "text": [
      "200\n"
     ]
    }
   ],
   "source": [
    "gene_id = \"ENSG00000169083\"\n",
    "query_string = \"\"\"\n",
    "    query target($ensemblId:String!){\n",
    "        target(ensemblId: $ensemblId){\n",
    "            id\n",
    "            approvedSymbol\n",
    "            biotype\n",
    "            geneticConstraint {\n",
    "                constraintType\n",
    "                exp\n",
    "                obs\n",
    "                score\n",
    "                oe\n",
    "                oeLower\n",
    "                oeUpper\n",
    "            }\n",
    "            tractability {\n",
    "                id\n",
    "                modality\n",
    "                value\n",
    "            }\n",
    "        }\n",
    "    }\n",
    "\"\"\"\n",
    "variables = {\"ensemblId\": gene_id}\n",
    "\n",
    "base_url = url\n",
    "r = requests.post(base_url, json={\"query\": query_string, \"variables\": variables})\n",
    "print(r.status_code)"
   ]
  },
  {
   "cell_type": "code",
   "execution_count": 4,
   "metadata": {},
   "outputs": [
    {
     "name": "stdout",
     "output_type": "stream",
     "text": [
      "{'data': {'target': {'id': 'ENSG00000169083', 'approvedSymbol': 'AR', 'biotype': 'protein_coding', 'geneticConstraint': [{'constraintType': 'syn', 'exp': 146.12, 'obs': 159, 'score': -0.83775, 'oe': 1.0882, 'oeLower': 0.956, 'oeUpper': 1.241}, {'constraintType': 'mis', 'exp': 350.67, 'obs': 286, 'score': 1.2272, 'oe': 0.81558, 'oeLower': 0.74, 'oeUpper': 0.899}, {'constraintType': 'lof', 'exp': 26.657, 'obs': 3, 'score': 0.98837, 'oe': 0.11254, 'oeLower': 0.05, 'oeUpper': 0.291}], 'tractability': [{'id': 'Approved Drug', 'modality': 'SM', 'value': True}, {'id': 'Advanced Clinical', 'modality': 'SM', 'value': False}, {'id': 'Phase 1 Clinical', 'modality': 'SM', 'value': False}, {'id': 'Structure with Ligand', 'modality': 'SM', 'value': True}, {'id': 'High-Quality Ligand', 'modality': 'SM', 'value': True}, {'id': 'High-Quality Pocket', 'modality': 'SM', 'value': True}, {'id': 'Med-Quality Pocket', 'modality': 'SM', 'value': False}, {'id': 'Druggable Family', 'modality': 'SM', 'value': True}, {'id': 'Approved Drug', 'modality': 'AB', 'value': False}, {'id': 'Advanced Clinical', 'modality': 'AB', 'value': False}, {'id': 'Phase 1 Clinical', 'modality': 'AB', 'value': False}, {'id': 'UniProt loc high conf', 'modality': 'AB', 'value': False}, {'id': 'GO CC high conf', 'modality': 'AB', 'value': False}, {'id': 'UniProt loc med conf', 'modality': 'AB', 'value': False}, {'id': 'UniProt SigP or TMHMM', 'modality': 'AB', 'value': False}, {'id': 'GO CC med conf', 'modality': 'AB', 'value': True}, {'id': 'Human Protein Atlas loc', 'modality': 'AB', 'value': False}, {'id': 'Approved Drug', 'modality': 'PR', 'value': False}, {'id': 'Advanced Clinical', 'modality': 'PR', 'value': True}, {'id': 'Phase 1 Clinical', 'modality': 'PR', 'value': False}, {'id': 'Literature', 'modality': 'PR', 'value': True}, {'id': 'UniProt Ubiquitination', 'modality': 'PR', 'value': True}, {'id': 'Database Ubiquitination', 'modality': 'PR', 'value': True}, {'id': 'Half-life Data', 'modality': 'PR', 'value': False}, {'id': 'Small Molecule Binder', 'modality': 'PR', 'value': True}, {'id': 'Approved Drug', 'modality': 'OC', 'value': False}, {'id': 'Advanced Clinical', 'modality': 'OC', 'value': False}, {'id': 'Phase 1 Clinical', 'modality': 'OC', 'value': False}]}}}\n"
     ]
    }
   ],
   "source": [
    "api_response = json.loads(r.text)\n",
    "print(api_response)"
   ]
  },
  {
   "attachments": {},
   "cell_type": "markdown",
   "metadata": {},
   "source": [
    "## Call targets with opentarget bigquery"
   ]
  },
  {
   "cell_type": "code",
   "execution_count": null,
   "metadata": {},
   "outputs": [],
   "source": [
    "# testing sample query\n",
    "\"\"\" SELECT\n",
    "associations.targetId AS target_id,\n",
    "targets.approvedSymbol AS target_approved_symbol,\n",
    "associations.diseaseId AS disease_id,\n",
    "diseases.name AS disease_name,\n",
    "associations.score AS overall_association_score\n",
    "FROM\n",
    "`open-targets-prod.platform.associationByOverallDirect` AS associations\n",
    "JOIN\n",
    "`open-targets-prod.platform.diseases` AS diseases\n",
    "ON\n",
    "associations.diseaseId = diseases.id\n",
    "JOIN\n",
    "`open-targets-prod.platform.targets` AS targets\n",
    "ON\n",
    "associations.targetId = targets.id\n",
    "WHERE\n",
    "associations.diseaseId = 'EFO_0000676'\n",
    "ORDER BY\n",
    "associations.score DESC \"\"\""
   ]
  },
  {
   "cell_type": "code",
   "execution_count": 7,
   "metadata": {},
   "outputs": [
    {
     "name": "stdout",
     "output_type": "stream",
     "text": [
      "{'data': {'disease': {'id': 'MONDO_0005301', 'name': 'multiple sclerosis', 'phenotypes': {'rows': []}}}}\n"
     ]
    }
   ],
   "source": [
    "body = \"\"\"\n",
    "query diseaseAnnotation {\n",
    "  disease(efoId: \"MONDO_0005301\") {\n",
    "    id\n",
    "    name\n",
    "    phenotypes {\n",
    "      rows {\n",
    "        phenotypeHPO {\n",
    "          id\n",
    "          name\n",
    "          description\n",
    "          namespace\n",
    "        }\n",
    "        phenotypeEFO {\n",
    "          id\n",
    "          name\n",
    "        }\n",
    "        evidence {\n",
    "          aspect\n",
    "          bioCuration\n",
    "          diseaseFromSourceId\n",
    "          diseaseFromSource\n",
    "          evidenceType\n",
    "          frequency\n",
    "          frequencyHPO {\n",
    "            name\n",
    "            id\n",
    "          }\n",
    "          qualifierNot\n",
    "          onset {\n",
    "            name\n",
    "            id\n",
    "          }\n",
    "          modifiers {\n",
    "            name\n",
    "            id\n",
    "          }\n",
    "          references\n",
    "          sex\n",
    "          resource\n",
    "        }\n",
    "      }\n",
    "    }\n",
    "  }\n",
    "}\n",
    "\n",
    "\"\"\"\n",
    "efoId = \"MONDO_0005301\"\n",
    "variables = {'efoId': efoId}\n",
    "r = requests.post(base_url, json={\"query\": body, \"variables\": variables})\n",
    "print(r.json())\n"
   ]
  }
 ],
 "metadata": {
  "kernelspec": {
   "display_name": "Python 3",
   "language": "python",
   "name": "python3"
  },
  "language_info": {
   "codemirror_mode": {
    "name": "ipython",
    "version": 3
   },
   "file_extension": ".py",
   "mimetype": "text/x-python",
   "name": "python",
   "nbconvert_exporter": "python",
   "pygments_lexer": "ipython3",
   "version": "3.11.1"
  },
  "orig_nbformat": 4,
  "vscode": {
   "interpreter": {
    "hash": "aee8b7b246df8f9039afb4144a1f6fd8d2ca17a180786b69acc140d282b71a49"
   }
  }
 },
 "nbformat": 4,
 "nbformat_minor": 2
}
